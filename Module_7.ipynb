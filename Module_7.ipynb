{
  "nbformat": 4,
  "nbformat_minor": 0,
  "metadata": {
    "colab": {
      "name": "Module_7.ipynb",
      "provenance": [],
      "collapsed_sections": [],
      "authorship_tag": "ABX9TyOhJy5j9WBCWf4DXVZmLxL6",
      "include_colab_link": true
    },
    "kernelspec": {
      "name": "python3",
      "display_name": "Python 3"
    },
    "language_info": {
      "name": "python"
    }
  },
  "cells": [
    {
      "cell_type": "markdown",
      "metadata": {
        "id": "view-in-github",
        "colab_type": "text"
      },
      "source": [
        "<a href=\"https://colab.research.google.com/github/snegi5/hello-github/blob/master/Module_7.ipynb\" target=\"_parent\"><img src=\"https://colab.research.google.com/assets/colab-badge.svg\" alt=\"Open In Colab\"/></a>"
      ]
    },
    {
      "cell_type": "code",
      "metadata": {
        "id": "BIkfDgnj42JZ"
      },
      "source": [
        "import numpy as np\n",
        "import pandas as pd\n",
        "\n",
        "# libaries to help with data visualization\n",
        "import matplotlib.pyplot as plt\n",
        "import seaborn as sns\n",
        "from sklearn.preprocessing import LabelEncoder, OneHotEncoder\n",
        "from sklearn.model_selection import train_test_split\n",
        "from sklearn.preprocessing import StandardScaler\n",
        "\n",
        "from sklearn import metrics\n",
        "#from sklearn.metrics import accuracy_score, confusion_matrix, precision_score, recall_score, f1_score, precision_recall_curve, auc\n",
        "from sklearn.metrics import accuracy_score, recall_score, precision_score, f1_score, roc_auc_score, roc_curve, confusion_matrix, precision_recall_curve,auc\n",
        "\n",
        "import keras\n",
        "from keras.models import Sequential#For building the Neural Network layer by layer\n",
        "from keras.layers import Dense#To randomly initialize the weights to small numbers close to 0(But not 0)\n",
        "\n",
        "\n",
        "\n",
        "\n",
        "\n",
        "import warnings\n",
        "warnings.filterwarnings(\"ignore\")\n",
        "from google.colab import files\n",
        "\n"
      ],
      "execution_count": 48,
      "outputs": []
    },
    {
      "cell_type": "markdown",
      "metadata": {
        "id": "xqZb53-a_V7i"
      },
      "source": [
        ""
      ]
    },
    {
      "cell_type": "code",
      "metadata": {
        "colab": {
          "base_uri": "https://localhost:8080/",
          "height": 359
        },
        "id": "6fm-CdRm5LD0",
        "outputId": "c11b56d8-1b64-49ba-eff7-bd71a22f75ff"
      },
      "source": [
        "data = pd.read_csv('bank.csv')\n",
        "data.sample(10)"
      ],
      "execution_count": 4,
      "outputs": [
        {
          "output_type": "execute_result",
          "data": {
            "text/html": [
              "<div>\n",
              "<style scoped>\n",
              "    .dataframe tbody tr th:only-of-type {\n",
              "        vertical-align: middle;\n",
              "    }\n",
              "\n",
              "    .dataframe tbody tr th {\n",
              "        vertical-align: top;\n",
              "    }\n",
              "\n",
              "    .dataframe thead th {\n",
              "        text-align: right;\n",
              "    }\n",
              "</style>\n",
              "<table border=\"1\" class=\"dataframe\">\n",
              "  <thead>\n",
              "    <tr style=\"text-align: right;\">\n",
              "      <th></th>\n",
              "      <th>RowNumber</th>\n",
              "      <th>CustomerId</th>\n",
              "      <th>Surname</th>\n",
              "      <th>CreditScore</th>\n",
              "      <th>Geography</th>\n",
              "      <th>Gender</th>\n",
              "      <th>Age</th>\n",
              "      <th>Tenure</th>\n",
              "      <th>Balance</th>\n",
              "      <th>NumOfProducts</th>\n",
              "      <th>HasCrCard</th>\n",
              "      <th>IsActiveMember</th>\n",
              "      <th>EstimatedSalary</th>\n",
              "      <th>Exited</th>\n",
              "    </tr>\n",
              "  </thead>\n",
              "  <tbody>\n",
              "    <tr>\n",
              "      <th>5628</th>\n",
              "      <td>5629</td>\n",
              "      <td>15665168</td>\n",
              "      <td>Calabrese</td>\n",
              "      <td>681</td>\n",
              "      <td>Germany</td>\n",
              "      <td>Female</td>\n",
              "      <td>44</td>\n",
              "      <td>3</td>\n",
              "      <td>105206.70</td>\n",
              "      <td>2</td>\n",
              "      <td>1</td>\n",
              "      <td>1</td>\n",
              "      <td>163558.36</td>\n",
              "      <td>0</td>\n",
              "    </tr>\n",
              "    <tr>\n",
              "      <th>489</th>\n",
              "      <td>490</td>\n",
              "      <td>15807709</td>\n",
              "      <td>Kirby</td>\n",
              "      <td>714</td>\n",
              "      <td>Germany</td>\n",
              "      <td>Female</td>\n",
              "      <td>55</td>\n",
              "      <td>9</td>\n",
              "      <td>180075.22</td>\n",
              "      <td>1</td>\n",
              "      <td>1</td>\n",
              "      <td>1</td>\n",
              "      <td>100127.71</td>\n",
              "      <td>0</td>\n",
              "    </tr>\n",
              "    <tr>\n",
              "      <th>5376</th>\n",
              "      <td>5377</td>\n",
              "      <td>15602500</td>\n",
              "      <td>Maslova</td>\n",
              "      <td>850</td>\n",
              "      <td>Spain</td>\n",
              "      <td>Male</td>\n",
              "      <td>38</td>\n",
              "      <td>1</td>\n",
              "      <td>146343.98</td>\n",
              "      <td>1</td>\n",
              "      <td>0</td>\n",
              "      <td>1</td>\n",
              "      <td>103902.11</td>\n",
              "      <td>0</td>\n",
              "    </tr>\n",
              "    <tr>\n",
              "      <th>2287</th>\n",
              "      <td>2288</td>\n",
              "      <td>15619889</td>\n",
              "      <td>Vasin</td>\n",
              "      <td>556</td>\n",
              "      <td>France</td>\n",
              "      <td>Male</td>\n",
              "      <td>26</td>\n",
              "      <td>4</td>\n",
              "      <td>0.00</td>\n",
              "      <td>1</td>\n",
              "      <td>1</td>\n",
              "      <td>0</td>\n",
              "      <td>195167.38</td>\n",
              "      <td>0</td>\n",
              "    </tr>\n",
              "    <tr>\n",
              "      <th>644</th>\n",
              "      <td>645</td>\n",
              "      <td>15698786</td>\n",
              "      <td>Marcelo</td>\n",
              "      <td>819</td>\n",
              "      <td>France</td>\n",
              "      <td>Female</td>\n",
              "      <td>39</td>\n",
              "      <td>9</td>\n",
              "      <td>133102.92</td>\n",
              "      <td>1</td>\n",
              "      <td>1</td>\n",
              "      <td>0</td>\n",
              "      <td>27046.46</td>\n",
              "      <td>1</td>\n",
              "    </tr>\n",
              "    <tr>\n",
              "      <th>7390</th>\n",
              "      <td>7391</td>\n",
              "      <td>15764922</td>\n",
              "      <td>Tu</td>\n",
              "      <td>596</td>\n",
              "      <td>Spain</td>\n",
              "      <td>Male</td>\n",
              "      <td>20</td>\n",
              "      <td>3</td>\n",
              "      <td>187294.46</td>\n",
              "      <td>1</td>\n",
              "      <td>1</td>\n",
              "      <td>0</td>\n",
              "      <td>103456.47</td>\n",
              "      <td>0</td>\n",
              "    </tr>\n",
              "    <tr>\n",
              "      <th>5199</th>\n",
              "      <td>5200</td>\n",
              "      <td>15726310</td>\n",
              "      <td>Mordvinova</td>\n",
              "      <td>782</td>\n",
              "      <td>Spain</td>\n",
              "      <td>Female</td>\n",
              "      <td>27</td>\n",
              "      <td>3</td>\n",
              "      <td>0.00</td>\n",
              "      <td>2</td>\n",
              "      <td>1</td>\n",
              "      <td>0</td>\n",
              "      <td>143614.01</td>\n",
              "      <td>0</td>\n",
              "    </tr>\n",
              "    <tr>\n",
              "      <th>3204</th>\n",
              "      <td>3205</td>\n",
              "      <td>15603942</td>\n",
              "      <td>Hawthorn</td>\n",
              "      <td>547</td>\n",
              "      <td>Germany</td>\n",
              "      <td>Male</td>\n",
              "      <td>50</td>\n",
              "      <td>3</td>\n",
              "      <td>81290.02</td>\n",
              "      <td>3</td>\n",
              "      <td>0</td>\n",
              "      <td>1</td>\n",
              "      <td>177747.03</td>\n",
              "      <td>1</td>\n",
              "    </tr>\n",
              "    <tr>\n",
              "      <th>6666</th>\n",
              "      <td>6667</td>\n",
              "      <td>15798709</td>\n",
              "      <td>Gill</td>\n",
              "      <td>588</td>\n",
              "      <td>Spain</td>\n",
              "      <td>Male</td>\n",
              "      <td>32</td>\n",
              "      <td>3</td>\n",
              "      <td>109109.33</td>\n",
              "      <td>1</td>\n",
              "      <td>0</td>\n",
              "      <td>1</td>\n",
              "      <td>4993.94</td>\n",
              "      <td>0</td>\n",
              "    </tr>\n",
              "    <tr>\n",
              "      <th>7402</th>\n",
              "      <td>7403</td>\n",
              "      <td>15632010</td>\n",
              "      <td>Chia</td>\n",
              "      <td>647</td>\n",
              "      <td>Spain</td>\n",
              "      <td>Male</td>\n",
              "      <td>33</td>\n",
              "      <td>7</td>\n",
              "      <td>121260.19</td>\n",
              "      <td>2</td>\n",
              "      <td>1</td>\n",
              "      <td>0</td>\n",
              "      <td>77216.48</td>\n",
              "      <td>0</td>\n",
              "    </tr>\n",
              "  </tbody>\n",
              "</table>\n",
              "</div>"
            ],
            "text/plain": [
              "      RowNumber  CustomerId  ... EstimatedSalary  Exited\n",
              "5628       5629    15665168  ...       163558.36       0\n",
              "489         490    15807709  ...       100127.71       0\n",
              "5376       5377    15602500  ...       103902.11       0\n",
              "2287       2288    15619889  ...       195167.38       0\n",
              "644         645    15698786  ...        27046.46       1\n",
              "7390       7391    15764922  ...       103456.47       0\n",
              "5199       5200    15726310  ...       143614.01       0\n",
              "3204       3205    15603942  ...       177747.03       1\n",
              "6666       6667    15798709  ...         4993.94       0\n",
              "7402       7403    15632010  ...        77216.48       0\n",
              "\n",
              "[10 rows x 14 columns]"
            ]
          },
          "metadata": {},
          "execution_count": 4
        }
      ]
    },
    {
      "cell_type": "code",
      "metadata": {
        "colab": {
          "base_uri": "https://localhost:8080/"
        },
        "id": "Wm5oB3v05OBt",
        "outputId": "3e2ad7b8-4816-4072-db0c-1c62d106ddbd"
      },
      "source": [
        "data.shape"
      ],
      "execution_count": 47,
      "outputs": [
        {
          "output_type": "execute_result",
          "data": {
            "text/plain": [
              "(10000, 14)"
            ]
          },
          "metadata": {},
          "execution_count": 47
        }
      ]
    },
    {
      "cell_type": "markdown",
      "metadata": {
        "id": "2vJU7HMz_-RJ"
      },
      "source": [
        "* There are 10000 observations and 14 coumns in the data set."
      ]
    },
    {
      "cell_type": "code",
      "metadata": {
        "colab": {
          "base_uri": "https://localhost:8080/"
        },
        "id": "bxM2VKBgAHhx",
        "outputId": "4b651f7f-6d42-4aa6-8483-360b134daa01"
      },
      "source": [
        "data.info()"
      ],
      "execution_count": 48,
      "outputs": [
        {
          "output_type": "stream",
          "text": [
            "<class 'pandas.core.frame.DataFrame'>\n",
            "RangeIndex: 10000 entries, 0 to 9999\n",
            "Data columns (total 14 columns):\n",
            " #   Column           Non-Null Count  Dtype  \n",
            "---  ------           --------------  -----  \n",
            " 0   RowNumber        10000 non-null  int64  \n",
            " 1   CustomerId       10000 non-null  int64  \n",
            " 2   Surname          10000 non-null  object \n",
            " 3   CreditScore      10000 non-null  int64  \n",
            " 4   Geography        10000 non-null  object \n",
            " 5   Gender           10000 non-null  object \n",
            " 6   Age              10000 non-null  int64  \n",
            " 7   Tenure           10000 non-null  int64  \n",
            " 8   Balance          10000 non-null  float64\n",
            " 9   NumOfProducts    10000 non-null  int64  \n",
            " 10  HasCrCard        10000 non-null  int64  \n",
            " 11  IsActiveMember   10000 non-null  int64  \n",
            " 12  EstimatedSalary  10000 non-null  float64\n",
            " 13  Exited           10000 non-null  int64  \n",
            "dtypes: float64(2), int64(9), object(3)\n",
            "memory usage: 1.1+ MB\n"
          ],
          "name": "stdout"
        }
      ]
    },
    {
      "cell_type": "markdown",
      "metadata": {
        "id": "sjlHLUQFAPdf"
      },
      "source": [
        "* we can see that there are no null values in the data.\n",
        "* Surname, Geography and Gender are only 3 object(String) datatypes.\n",
        "* Also, features like Rownumber, CustomerId and Surname are not relevant as these are unique id's and customer last name."
      ]
    },
    {
      "cell_type": "markdown",
      "metadata": {
        "id": "q14HhpkxAdlr"
      },
      "source": [
        "##### Dropping RowNumber, CustomerId and Surname."
      ]
    },
    {
      "cell_type": "code",
      "metadata": {
        "id": "af9Glnv2AfWI"
      },
      "source": [
        "# dropping unneccessary columns.\n",
        "data.drop(columns=['RowNumber','CustomerId','Surname'],inplace=True)"
      ],
      "execution_count": 5,
      "outputs": []
    },
    {
      "cell_type": "code",
      "metadata": {
        "colab": {
          "base_uri": "https://localhost:8080/",
          "height": 204
        },
        "id": "uNKrDOrIAidA",
        "outputId": "8b2b8065-c0c7-4d81-a21a-667d550dd0af"
      },
      "source": [
        "data.sample(5)"
      ],
      "execution_count": 6,
      "outputs": [
        {
          "output_type": "execute_result",
          "data": {
            "text/html": [
              "<div>\n",
              "<style scoped>\n",
              "    .dataframe tbody tr th:only-of-type {\n",
              "        vertical-align: middle;\n",
              "    }\n",
              "\n",
              "    .dataframe tbody tr th {\n",
              "        vertical-align: top;\n",
              "    }\n",
              "\n",
              "    .dataframe thead th {\n",
              "        text-align: right;\n",
              "    }\n",
              "</style>\n",
              "<table border=\"1\" class=\"dataframe\">\n",
              "  <thead>\n",
              "    <tr style=\"text-align: right;\">\n",
              "      <th></th>\n",
              "      <th>CreditScore</th>\n",
              "      <th>Geography</th>\n",
              "      <th>Gender</th>\n",
              "      <th>Age</th>\n",
              "      <th>Tenure</th>\n",
              "      <th>Balance</th>\n",
              "      <th>NumOfProducts</th>\n",
              "      <th>HasCrCard</th>\n",
              "      <th>IsActiveMember</th>\n",
              "      <th>EstimatedSalary</th>\n",
              "      <th>Exited</th>\n",
              "    </tr>\n",
              "  </thead>\n",
              "  <tbody>\n",
              "    <tr>\n",
              "      <th>8202</th>\n",
              "      <td>589</td>\n",
              "      <td>Spain</td>\n",
              "      <td>Female</td>\n",
              "      <td>27</td>\n",
              "      <td>4</td>\n",
              "      <td>0.00</td>\n",
              "      <td>2</td>\n",
              "      <td>1</td>\n",
              "      <td>0</td>\n",
              "      <td>144181.48</td>\n",
              "      <td>0</td>\n",
              "    </tr>\n",
              "    <tr>\n",
              "      <th>6073</th>\n",
              "      <td>471</td>\n",
              "      <td>Germany</td>\n",
              "      <td>Female</td>\n",
              "      <td>36</td>\n",
              "      <td>5</td>\n",
              "      <td>90063.74</td>\n",
              "      <td>2</td>\n",
              "      <td>1</td>\n",
              "      <td>1</td>\n",
              "      <td>96366.70</td>\n",
              "      <td>0</td>\n",
              "    </tr>\n",
              "    <tr>\n",
              "      <th>7053</th>\n",
              "      <td>755</td>\n",
              "      <td>Germany</td>\n",
              "      <td>Male</td>\n",
              "      <td>43</td>\n",
              "      <td>6</td>\n",
              "      <td>165048.50</td>\n",
              "      <td>3</td>\n",
              "      <td>1</td>\n",
              "      <td>0</td>\n",
              "      <td>16929.41</td>\n",
              "      <td>1</td>\n",
              "    </tr>\n",
              "    <tr>\n",
              "      <th>2613</th>\n",
              "      <td>630</td>\n",
              "      <td>France</td>\n",
              "      <td>Male</td>\n",
              "      <td>26</td>\n",
              "      <td>7</td>\n",
              "      <td>129837.72</td>\n",
              "      <td>2</td>\n",
              "      <td>0</td>\n",
              "      <td>1</td>\n",
              "      <td>197001.15</td>\n",
              "      <td>0</td>\n",
              "    </tr>\n",
              "    <tr>\n",
              "      <th>6912</th>\n",
              "      <td>544</td>\n",
              "      <td>France</td>\n",
              "      <td>Male</td>\n",
              "      <td>48</td>\n",
              "      <td>10</td>\n",
              "      <td>78314.63</td>\n",
              "      <td>3</td>\n",
              "      <td>1</td>\n",
              "      <td>1</td>\n",
              "      <td>103713.93</td>\n",
              "      <td>1</td>\n",
              "    </tr>\n",
              "  </tbody>\n",
              "</table>\n",
              "</div>"
            ],
            "text/plain": [
              "      CreditScore Geography  Gender  ...  IsActiveMember  EstimatedSalary  Exited\n",
              "8202          589     Spain  Female  ...               0        144181.48       0\n",
              "6073          471   Germany  Female  ...               1         96366.70       0\n",
              "7053          755   Germany    Male  ...               0         16929.41       1\n",
              "2613          630    France    Male  ...               1        197001.15       0\n",
              "6912          544    France    Male  ...               1        103713.93       1\n",
              "\n",
              "[5 rows x 11 columns]"
            ]
          },
          "metadata": {},
          "execution_count": 6
        }
      ]
    },
    {
      "cell_type": "markdown",
      "metadata": {
        "id": "JaRFLKWwAuAk"
      },
      "source": [
        "##EDA"
      ]
    },
    {
      "cell_type": "code",
      "metadata": {
        "colab": {
          "base_uri": "https://localhost:8080/",
          "height": 328
        },
        "id": "Tznw-lg6AvGu",
        "outputId": "0afc10f1-db57-49d1-e09c-faaad1660cf7"
      },
      "source": [
        "data.describe().T"
      ],
      "execution_count": 50,
      "outputs": [
        {
          "output_type": "execute_result",
          "data": {
            "text/html": [
              "<div>\n",
              "<style scoped>\n",
              "    .dataframe tbody tr th:only-of-type {\n",
              "        vertical-align: middle;\n",
              "    }\n",
              "\n",
              "    .dataframe tbody tr th {\n",
              "        vertical-align: top;\n",
              "    }\n",
              "\n",
              "    .dataframe thead th {\n",
              "        text-align: right;\n",
              "    }\n",
              "</style>\n",
              "<table border=\"1\" class=\"dataframe\">\n",
              "  <thead>\n",
              "    <tr style=\"text-align: right;\">\n",
              "      <th></th>\n",
              "      <th>count</th>\n",
              "      <th>mean</th>\n",
              "      <th>std</th>\n",
              "      <th>min</th>\n",
              "      <th>25%</th>\n",
              "      <th>50%</th>\n",
              "      <th>75%</th>\n",
              "      <th>max</th>\n",
              "    </tr>\n",
              "  </thead>\n",
              "  <tbody>\n",
              "    <tr>\n",
              "      <th>CreditScore</th>\n",
              "      <td>10000.0</td>\n",
              "      <td>650.528800</td>\n",
              "      <td>96.653299</td>\n",
              "      <td>350.00</td>\n",
              "      <td>584.00</td>\n",
              "      <td>652.000</td>\n",
              "      <td>718.0000</td>\n",
              "      <td>850.00</td>\n",
              "    </tr>\n",
              "    <tr>\n",
              "      <th>Age</th>\n",
              "      <td>10000.0</td>\n",
              "      <td>38.921800</td>\n",
              "      <td>10.487806</td>\n",
              "      <td>18.00</td>\n",
              "      <td>32.00</td>\n",
              "      <td>37.000</td>\n",
              "      <td>44.0000</td>\n",
              "      <td>92.00</td>\n",
              "    </tr>\n",
              "    <tr>\n",
              "      <th>Tenure</th>\n",
              "      <td>10000.0</td>\n",
              "      <td>5.012800</td>\n",
              "      <td>2.892174</td>\n",
              "      <td>0.00</td>\n",
              "      <td>3.00</td>\n",
              "      <td>5.000</td>\n",
              "      <td>7.0000</td>\n",
              "      <td>10.00</td>\n",
              "    </tr>\n",
              "    <tr>\n",
              "      <th>Balance</th>\n",
              "      <td>10000.0</td>\n",
              "      <td>76485.889288</td>\n",
              "      <td>62397.405202</td>\n",
              "      <td>0.00</td>\n",
              "      <td>0.00</td>\n",
              "      <td>97198.540</td>\n",
              "      <td>127644.2400</td>\n",
              "      <td>250898.09</td>\n",
              "    </tr>\n",
              "    <tr>\n",
              "      <th>NumOfProducts</th>\n",
              "      <td>10000.0</td>\n",
              "      <td>1.530200</td>\n",
              "      <td>0.581654</td>\n",
              "      <td>1.00</td>\n",
              "      <td>1.00</td>\n",
              "      <td>1.000</td>\n",
              "      <td>2.0000</td>\n",
              "      <td>4.00</td>\n",
              "    </tr>\n",
              "    <tr>\n",
              "      <th>HasCrCard</th>\n",
              "      <td>10000.0</td>\n",
              "      <td>0.705500</td>\n",
              "      <td>0.455840</td>\n",
              "      <td>0.00</td>\n",
              "      <td>0.00</td>\n",
              "      <td>1.000</td>\n",
              "      <td>1.0000</td>\n",
              "      <td>1.00</td>\n",
              "    </tr>\n",
              "    <tr>\n",
              "      <th>IsActiveMember</th>\n",
              "      <td>10000.0</td>\n",
              "      <td>0.515100</td>\n",
              "      <td>0.499797</td>\n",
              "      <td>0.00</td>\n",
              "      <td>0.00</td>\n",
              "      <td>1.000</td>\n",
              "      <td>1.0000</td>\n",
              "      <td>1.00</td>\n",
              "    </tr>\n",
              "    <tr>\n",
              "      <th>EstimatedSalary</th>\n",
              "      <td>10000.0</td>\n",
              "      <td>100090.239881</td>\n",
              "      <td>57510.492818</td>\n",
              "      <td>11.58</td>\n",
              "      <td>51002.11</td>\n",
              "      <td>100193.915</td>\n",
              "      <td>149388.2475</td>\n",
              "      <td>199992.48</td>\n",
              "    </tr>\n",
              "    <tr>\n",
              "      <th>Exited</th>\n",
              "      <td>10000.0</td>\n",
              "      <td>0.203700</td>\n",
              "      <td>0.402769</td>\n",
              "      <td>0.00</td>\n",
              "      <td>0.00</td>\n",
              "      <td>0.000</td>\n",
              "      <td>0.0000</td>\n",
              "      <td>1.00</td>\n",
              "    </tr>\n",
              "  </tbody>\n",
              "</table>\n",
              "</div>"
            ],
            "text/plain": [
              "                   count           mean  ...          75%        max\n",
              "CreditScore      10000.0     650.528800  ...     718.0000     850.00\n",
              "Age              10000.0      38.921800  ...      44.0000      92.00\n",
              "Tenure           10000.0       5.012800  ...       7.0000      10.00\n",
              "Balance          10000.0   76485.889288  ...  127644.2400  250898.09\n",
              "NumOfProducts    10000.0       1.530200  ...       2.0000       4.00\n",
              "HasCrCard        10000.0       0.705500  ...       1.0000       1.00\n",
              "IsActiveMember   10000.0       0.515100  ...       1.0000       1.00\n",
              "EstimatedSalary  10000.0  100090.239881  ...  149388.2475  199992.48\n",
              "Exited           10000.0       0.203700  ...       0.0000       1.00\n",
              "\n",
              "[9 rows x 8 columns]"
            ]
          },
          "metadata": {},
          "execution_count": 50
        }
      ]
    },
    {
      "cell_type": "markdown",
      "metadata": {
        "id": "9hS-skyFAye6"
      },
      "source": [
        "* Mean and Median CreditScore are also same aroung 650.\n",
        "* Age is between the range from 18 to 92.it looks their are outlier in the age.\n",
        "* Tenure is between 0 to 10, with mean and median close to 5. There are customer in the bank with less than 1 year of tenure.\n",
        "* 25% of the customer has 0 Balance where as balance for top 25% of the customer is between 127644.2400 and 250898.09.\n",
        "* 50% of the customer has only 1 product with the bank.\n",
        "* 25% of the customer does not have a credit card where as other 75% of the customer has only 1 credit card.\n",
        "* 25% of the customer are not active member, remaining 75% are active member.\n",
        "* minimum estimayed salry is only 11.58. 50% of the customer earns less than 51002.11.\n",
        "\n"
      ]
    },
    {
      "cell_type": "markdown",
      "metadata": {
        "id": "bPpIYw-NA5v8"
      },
      "source": [
        "### Bivariate analysis"
      ]
    },
    {
      "cell_type": "code",
      "metadata": {
        "colab": {
          "base_uri": "https://localhost:8080/",
          "height": 504
        },
        "id": "natm36ZIA3Ey",
        "outputId": "dcdf4fa5-5725-40db-c293-26d341f6bbd9"
      },
      "source": [
        "plt.figure(figsize=(15,7))\n",
        "sns.heatmap(data.corr(),annot=True,vmin=-1,vmax=1,fmt='.2f',cmap='Spectral')\n",
        "plt.show()"
      ],
      "execution_count": 23,
      "outputs": [
        {
          "output_type": "display_data",
          "data": {
            "image/png": "[encoded data removed]",
            "text/plain": [
              "<Figure size 1080x504 with 2 Axes>"
            ]
          },
          "metadata": {
            "needs_background": "light"
          }
        }
      ]
    },
    {
      "cell_type": "markdown",
      "metadata": {
        "id": "bUC3rhzrBBt9"
      },
      "source": [
        "* There is some week correlation between Exited and Age and between Exited and Balance.\n",
        "* There is also some week negative correlation between Exited and IsActiveMember and between Balance and Balance and NumberOfProducts."
      ]
    },
    {
      "cell_type": "code",
      "metadata": {
        "id": "YJM5bprQBFwt"
      },
      "source": [
        "### Function to plot distributions and Boxplots of customers\n",
        "def plot(x,target='Exited'):\n",
        "    fig,axs = plt.subplots(2,2,figsize=(12,10))\n",
        "    axs[0, 0].set_title('Distribution of an Exited Customer')\n",
        "    sns.distplot(data[(data[target] == 1)][x],ax=axs[0,0],color='teal')\n",
        "    axs[0, 1].set_title('Distribution of an Existing Customer')\n",
        "    sns.distplot(data[(data[target] == 0)][x],ax=axs[0,1],color='orange')\n",
        "    axs[1,0].set_title('Boxplot w.r.t Exited')\n",
        "    sns.boxplot(data[target],data[x],ax=axs[1,0],palette='gist_rainbow')\n",
        "    axs[1,1].set_title('Boxplot w.r.t Exited - Without outliers')\n",
        "    sns.boxplot(data[target],data[x],ax=axs[1,1],showfliers=False,palette='gist_rainbow')\n",
        "    plt.tight_layout()\n",
        "    plt.show()"
      ],
      "execution_count": 7,
      "outputs": []
    },
    {
      "cell_type": "code",
      "metadata": {
        "colab": {
          "base_uri": "https://localhost:8080/",
          "height": 729
        },
        "id": "m5PKF5t2BIhm",
        "outputId": "d5a96ea0-c7d6-43b3-9a4e-ccf428816a43"
      },
      "source": [
        "plot('CreditScore')"
      ],
      "execution_count": 29,
      "outputs": [
        {
          "output_type": "display_data",
          "data": {
            "image/png": "[encoded data removed]",
            "text/plain": [
              "<Figure size 864x720 with 4 Axes>"
            ]
          },
          "metadata": {
            "needs_background": "light"
          }
        }
      ]
    },
    {
      "cell_type": "code",
      "metadata": {
        "colab": {
          "base_uri": "https://localhost:8080/",
          "height": 111
        },
        "id": "AP58pvQjTNTG",
        "outputId": "f5670a47-9706-4ebd-d79d-88a3dea3528e"
      },
      "source": [
        "# one hot encoding for Geography.\n",
        "data = pd.get_dummies(data, columns=['Geography','Gender'],drop_first=True)\n",
        "data.sample(2)"
      ],
      "execution_count": 8,
      "outputs": [
        {
          "output_type": "execute_result",
          "data": {
            "text/html": [
              "<div>\n",
              "<style scoped>\n",
              "    .dataframe tbody tr th:only-of-type {\n",
              "        vertical-align: middle;\n",
              "    }\n",
              "\n",
              "    .dataframe tbody tr th {\n",
              "        vertical-align: top;\n",
              "    }\n",
              "\n",
              "    .dataframe thead th {\n",
              "        text-align: right;\n",
              "    }\n",
              "</style>\n",
              "<table border=\"1\" class=\"dataframe\">\n",
              "  <thead>\n",
              "    <tr style=\"text-align: right;\">\n",
              "      <th></th>\n",
              "      <th>CreditScore</th>\n",
              "      <th>Age</th>\n",
              "      <th>Tenure</th>\n",
              "      <th>Balance</th>\n",
              "      <th>NumOfProducts</th>\n",
              "      <th>HasCrCard</th>\n",
              "      <th>IsActiveMember</th>\n",
              "      <th>EstimatedSalary</th>\n",
              "      <th>Exited</th>\n",
              "      <th>Geography_Germany</th>\n",
              "      <th>Geography_Spain</th>\n",
              "      <th>Gender_Male</th>\n",
              "    </tr>\n",
              "  </thead>\n",
              "  <tbody>\n",
              "    <tr>\n",
              "      <th>7489</th>\n",
              "      <td>600</td>\n",
              "      <td>26</td>\n",
              "      <td>6</td>\n",
              "      <td>108909.12</td>\n",
              "      <td>1</td>\n",
              "      <td>1</td>\n",
              "      <td>0</td>\n",
              "      <td>82547.01</td>\n",
              "      <td>0</td>\n",
              "      <td>0</td>\n",
              "      <td>0</td>\n",
              "      <td>0</td>\n",
              "    </tr>\n",
              "    <tr>\n",
              "      <th>2912</th>\n",
              "      <td>699</td>\n",
              "      <td>32</td>\n",
              "      <td>1</td>\n",
              "      <td>123906.22</td>\n",
              "      <td>3</td>\n",
              "      <td>1</td>\n",
              "      <td>1</td>\n",
              "      <td>127443.82</td>\n",
              "      <td>1</td>\n",
              "      <td>1</td>\n",
              "      <td>0</td>\n",
              "      <td>1</td>\n",
              "    </tr>\n",
              "  </tbody>\n",
              "</table>\n",
              "</div>"
            ],
            "text/plain": [
              "      CreditScore  Age  Tenure  ...  Geography_Germany  Geography_Spain  Gender_Male\n",
              "7489          600   26       6  ...                  0                0            0\n",
              "2912          699   32       1  ...                  1                0            1\n",
              "\n",
              "[2 rows x 12 columns]"
            ]
          },
          "metadata": {},
          "execution_count": 8
        }
      ]
    },
    {
      "cell_type": "code",
      "metadata": {
        "colab": {
          "base_uri": "https://localhost:8080/"
        },
        "id": "93kfuDhXTVNu",
        "outputId": "ece414b9-5a5e-42b4-d01d-d340cfbb9172"
      },
      "source": [
        "X=data.drop(columns='Exited')\n",
        "y=data['Exited']\n",
        "\n",
        "X.shape"
      ],
      "execution_count": 9,
      "outputs": [
        {
          "output_type": "execute_result",
          "data": {
            "text/plain": [
              "(10000, 11)"
            ]
          },
          "metadata": {},
          "execution_count": 9
        }
      ]
    },
    {
      "cell_type": "code",
      "metadata": {
        "id": "ffxzEZraSVOD"
      },
      "source": [
        "\n",
        "X_train, X_test, y_train, y_test = train_test_split(X, y, test_size = 0.2, random_state = 0)\n",
        "\n",
        "# Feature Scaling\n",
        "X_train.sample(2)\n",
        "sc = StandardScaler()\n",
        "X_train = sc.fit_transform(X_train)\n",
        "X_test = sc.transform(X_test)\n"
      ],
      "execution_count": 10,
      "outputs": []
    },
    {
      "cell_type": "code",
      "metadata": {
        "id": "v9TH-4hVWUvT"
      },
      "source": [
        "model = Sequential()\n",
        "\n",
        "model.add(Dense(units = 16, activation = 'relu', input_dim = 11))\n",
        "\n",
        "model.add(Dense(16, activation = 'relu'))\n",
        "\n",
        "model.add(Dense(1, activation = 'sigmoid'))\n",
        "\n"
      ],
      "execution_count": 11,
      "outputs": []
    },
    {
      "cell_type": "code",
      "metadata": {
        "id": "dgbMjSHvX6Ha"
      },
      "source": [
        "# Create optimizer with default learning rate\n",
        "# Compile the model\n",
        "model.compile(optimizer='adam',loss='binary_crossentropy',metrics=['accuracy'])"
      ],
      "execution_count": 12,
      "outputs": []
    },
    {
      "cell_type": "code",
      "metadata": {
        "colab": {
          "base_uri": "https://localhost:8080/"
        },
        "id": "HP6AaHnrhPRr",
        "outputId": "c1a13d1d-8fae-4f52-b66b-ab54db404724"
      },
      "source": [
        "model.summary()"
      ],
      "execution_count": 13,
      "outputs": [
        {
          "output_type": "stream",
          "text": [
            "Model: \"sequential\"\n",
            "_________________________________________________________________\n",
            "Layer (type)                 Output Shape              Param #   \n",
            "=================================================================\n",
            "dense (Dense)                (None, 16)                192       \n",
            "_________________________________________________________________\n",
            "dense_1 (Dense)              (None, 16)                272       \n",
            "_________________________________________________________________\n",
            "dense_2 (Dense)              (None, 1)                 17        \n",
            "=================================================================\n",
            "Total params: 481\n",
            "Trainable params: 481\n",
            "Non-trainable params: 0\n",
            "_________________________________________________________________\n"
          ],
          "name": "stdout"
        }
      ]
    },
    {
      "cell_type": "code",
      "metadata": {
        "colab": {
          "base_uri": "https://localhost:8080/"
        },
        "id": "WZSTGZv4hTPF",
        "outputId": "2d6d4a25-7342-41b0-cbf1-cf3bca8f8470"
      },
      "source": [
        "#fitting the model\n",
        "history=model.fit(X_train,y_train,batch_size=15,epochs=10,validation_split=0.2)"
      ],
      "execution_count": 14,
      "outputs": [
        {
          "output_type": "stream",
          "text": [
            "Epoch 1/10\n",
            "427/427 [==============================] - 2s 2ms/step - loss: 0.4751 - accuracy: 0.7881 - val_loss: 0.4456 - val_accuracy: 0.8031\n",
            "Epoch 2/10\n",
            "427/427 [==============================] - 1s 1ms/step - loss: 0.4249 - accuracy: 0.8161 - val_loss: 0.4190 - val_accuracy: 0.8200\n",
            "Epoch 3/10\n",
            "427/427 [==============================] - 1s 2ms/step - loss: 0.3999 - accuracy: 0.8350 - val_loss: 0.4010 - val_accuracy: 0.8319\n",
            "Epoch 4/10\n",
            "427/427 [==============================] - 1s 2ms/step - loss: 0.3792 - accuracy: 0.8436 - val_loss: 0.3811 - val_accuracy: 0.8419\n",
            "Epoch 5/10\n",
            "427/427 [==============================] - 1s 2ms/step - loss: 0.3637 - accuracy: 0.8519 - val_loss: 0.3693 - val_accuracy: 0.8462\n",
            "Epoch 6/10\n",
            "427/427 [==============================] - 1s 1ms/step - loss: 0.3519 - accuracy: 0.8552 - val_loss: 0.3627 - val_accuracy: 0.8494\n",
            "Epoch 7/10\n",
            "427/427 [==============================] - 1s 2ms/step - loss: 0.3453 - accuracy: 0.8572 - val_loss: 0.3589 - val_accuracy: 0.8487\n",
            "Epoch 8/10\n",
            "427/427 [==============================] - 1s 2ms/step - loss: 0.3412 - accuracy: 0.8606 - val_loss: 0.3555 - val_accuracy: 0.8594\n",
            "Epoch 9/10\n",
            "427/427 [==============================] - 1s 1ms/step - loss: 0.3373 - accuracy: 0.8623 - val_loss: 0.3553 - val_accuracy: 0.8531\n",
            "Epoch 10/10\n",
            "427/427 [==============================] - 1s 1ms/step - loss: 0.3352 - accuracy: 0.8625 - val_loss: 0.3545 - val_accuracy: 0.8581\n"
          ],
          "name": "stdout"
        }
      ]
    },
    {
      "cell_type": "code",
      "metadata": {
        "colab": {
          "base_uri": "https://localhost:8080/",
          "height": 283
        },
        "id": "C70kOBHGh6NE",
        "outputId": "6391b581-f88a-48c9-df14-42404e667f26"
      },
      "source": [
        "# Capturing learning history per epoch\n",
        "hist  = pd.DataFrame(history.history)\n",
        "hist['epoch'] = history.epoch\n",
        "\n",
        "# Plotting accuracy at different epochs\n",
        "plt.plot(hist['loss'])\n",
        "plt.plot(hist['val_loss'])\n",
        "plt.legend((\"train\" , \"valid\") , loc =0)"
      ],
      "execution_count": 15,
      "outputs": [
        {
          "output_type": "execute_result",
          "data": {
            "text/plain": [
              "<matplotlib.legend.Legend at 0x7f9f06993390>"
            ]
          },
          "metadata": {},
          "execution_count": 15
        },
        {
          "output_type": "display_data",
          "data": {
            "image/png": "[encoded data removed]",
            "text/plain": [
              "<Figure size 432x288 with 1 Axes>"
            ]
          },
          "metadata": {
            "needs_background": "light"
          }
        }
      ]
    },
    {
      "cell_type": "code",
      "metadata": {
        "colab": {
          "base_uri": "https://localhost:8080/"
        },
        "id": "Q0eWytwIiFx2",
        "outputId": "495aa540-b4c5-46af-bd62-cd9fc7ac1e88"
      },
      "source": [
        "score = model.evaluate(X_test, y_test)"
      ],
      "execution_count": 16,
      "outputs": [
        {
          "output_type": "stream",
          "text": [
            "63/63 [==============================] - 0s 1ms/step - loss: 0.3426 - accuracy: 0.8575\n"
          ],
          "name": "stdout"
        }
      ]
    },
    {
      "cell_type": "code",
      "metadata": {
        "colab": {
          "base_uri": "https://localhost:8080/"
        },
        "id": "3v8yyc9fiGwp",
        "outputId": "bac85ef4-fd0f-4ef5-b721-e19730861c6f"
      },
      "source": [
        "print(score)"
      ],
      "execution_count": 17,
      "outputs": [
        {
          "output_type": "stream",
          "text": [
            "[0.34255871176719666, 0.8575000166893005]\n"
          ],
          "name": "stdout"
        }
      ]
    },
    {
      "cell_type": "code",
      "metadata": {
        "colab": {
          "base_uri": "https://localhost:8080/",
          "height": 232
        },
        "id": "ymDD-2w4iRm4",
        "outputId": "05298e56-708b-4dec-8a49-e607b547ac42"
      },
      "source": [
        "## Confusion Matrix on unsee test set\n",
        "y_pred1 = model.predict(X_test)\n",
        "for i in range(len(y_test)):\n",
        "    if y_pred1[i]>0.5:\n",
        "        y_pred1[i]=1 \n",
        "    else:\n",
        "        y_pred1[i]=0\n",
        "\n",
        "\n",
        "\n",
        "cm2=confusion_matrix(y_test, y_pred1)\n",
        "labels = ['True Negative','False Positive','False Negative','True Positive']\n",
        "categories = [ 'Not_Fraud','Fraud']\n",
        "make_confusion_matrix(cm2, \n",
        "                      group_names=labels,\n",
        "                      categories=categories, \n",
        "                      cmap='Blues')"
      ],
      "execution_count": 18,
      "outputs": [
        {
          "output_type": "error",
          "ename": "NameError",
          "evalue": "ignored",
          "traceback": [
            "\u001b[0;31m---------------------------------------------------------------------------\u001b[0m",
            "\u001b[0;31mNameError\u001b[0m                                 Traceback (most recent call last)",
            "\u001b[0;32m<ipython-input-18-89e72ee4b7e4>\u001b[0m in \u001b[0;36m<module>\u001b[0;34m()\u001b[0m\n\u001b[1;32m     12\u001b[0m \u001b[0mlabels\u001b[0m \u001b[0;34m=\u001b[0m \u001b[0;34m[\u001b[0m\u001b[0;34m'True Negative'\u001b[0m\u001b[0;34m,\u001b[0m\u001b[0;34m'False Positive'\u001b[0m\u001b[0;34m,\u001b[0m\u001b[0;34m'False Negative'\u001b[0m\u001b[0;34m,\u001b[0m\u001b[0;34m'True Positive'\u001b[0m\u001b[0;34m]\u001b[0m\u001b[0;34m\u001b[0m\u001b[0;34m\u001b[0m\u001b[0m\n\u001b[1;32m     13\u001b[0m \u001b[0mcategories\u001b[0m \u001b[0;34m=\u001b[0m \u001b[0;34m[\u001b[0m \u001b[0;34m'Not_Fraud'\u001b[0m\u001b[0;34m,\u001b[0m\u001b[0;34m'Fraud'\u001b[0m\u001b[0;34m]\u001b[0m\u001b[0;34m\u001b[0m\u001b[0;34m\u001b[0m\u001b[0m\n\u001b[0;32m---> 14\u001b[0;31m make_confusion_matrix(cm2, \n\u001b[0m\u001b[1;32m     15\u001b[0m                       \u001b[0mgroup_names\u001b[0m\u001b[0;34m=\u001b[0m\u001b[0mlabels\u001b[0m\u001b[0;34m,\u001b[0m\u001b[0;34m\u001b[0m\u001b[0;34m\u001b[0m\u001b[0m\n\u001b[1;32m     16\u001b[0m                       \u001b[0mcategories\u001b[0m\u001b[0;34m=\u001b[0m\u001b[0mcategories\u001b[0m\u001b[0;34m,\u001b[0m\u001b[0;34m\u001b[0m\u001b[0;34m\u001b[0m\u001b[0m\n",
            "\u001b[0;31mNameError\u001b[0m: name 'make_confusion_matrix' is not defined"
          ]
        }
      ]
    },
    {
      "cell_type": "code",
      "metadata": {
        "colab": {
          "base_uri": "https://localhost:8080/",
          "height": 359
        },
        "id": "qF-5hehziW5f",
        "outputId": "5190a83e-b3b0-4563-d0a6-391824c7e909"
      },
      "source": [
        "hist"
      ],
      "execution_count": 22,
      "outputs": [
        {
          "output_type": "execute_result",
          "data": {
            "text/html": [
              "<div>\n",
              "<style scoped>\n",
              "    .dataframe tbody tr th:only-of-type {\n",
              "        vertical-align: middle;\n",
              "    }\n",
              "\n",
              "    .dataframe tbody tr th {\n",
              "        vertical-align: top;\n",
              "    }\n",
              "\n",
              "    .dataframe thead th {\n",
              "        text-align: right;\n",
              "    }\n",
              "</style>\n",
              "<table border=\"1\" class=\"dataframe\">\n",
              "  <thead>\n",
              "    <tr style=\"text-align: right;\">\n",
              "      <th></th>\n",
              "      <th>loss</th>\n",
              "      <th>accuracy</th>\n",
              "      <th>val_loss</th>\n",
              "      <th>val_accuracy</th>\n",
              "      <th>epoch</th>\n",
              "    </tr>\n",
              "  </thead>\n",
              "  <tbody>\n",
              "    <tr>\n",
              "      <th>0</th>\n",
              "      <td>0.475060</td>\n",
              "      <td>0.788125</td>\n",
              "      <td>0.445612</td>\n",
              "      <td>0.803125</td>\n",
              "      <td>0</td>\n",
              "    </tr>\n",
              "    <tr>\n",
              "      <th>1</th>\n",
              "      <td>0.424908</td>\n",
              "      <td>0.816094</td>\n",
              "      <td>0.418971</td>\n",
              "      <td>0.820000</td>\n",
              "      <td>1</td>\n",
              "    </tr>\n",
              "    <tr>\n",
              "      <th>2</th>\n",
              "      <td>0.399899</td>\n",
              "      <td>0.835000</td>\n",
              "      <td>0.401040</td>\n",
              "      <td>0.831875</td>\n",
              "      <td>2</td>\n",
              "    </tr>\n",
              "    <tr>\n",
              "      <th>3</th>\n",
              "      <td>0.379233</td>\n",
              "      <td>0.843594</td>\n",
              "      <td>0.381103</td>\n",
              "      <td>0.841875</td>\n",
              "      <td>3</td>\n",
              "    </tr>\n",
              "    <tr>\n",
              "      <th>4</th>\n",
              "      <td>0.363712</td>\n",
              "      <td>0.851875</td>\n",
              "      <td>0.369280</td>\n",
              "      <td>0.846250</td>\n",
              "      <td>4</td>\n",
              "    </tr>\n",
              "    <tr>\n",
              "      <th>5</th>\n",
              "      <td>0.351946</td>\n",
              "      <td>0.855156</td>\n",
              "      <td>0.362723</td>\n",
              "      <td>0.849375</td>\n",
              "      <td>5</td>\n",
              "    </tr>\n",
              "    <tr>\n",
              "      <th>6</th>\n",
              "      <td>0.345305</td>\n",
              "      <td>0.857188</td>\n",
              "      <td>0.358907</td>\n",
              "      <td>0.848750</td>\n",
              "      <td>6</td>\n",
              "    </tr>\n",
              "    <tr>\n",
              "      <th>7</th>\n",
              "      <td>0.341199</td>\n",
              "      <td>0.860625</td>\n",
              "      <td>0.355518</td>\n",
              "      <td>0.859375</td>\n",
              "      <td>7</td>\n",
              "    </tr>\n",
              "    <tr>\n",
              "      <th>8</th>\n",
              "      <td>0.337283</td>\n",
              "      <td>0.862344</td>\n",
              "      <td>0.355294</td>\n",
              "      <td>0.853125</td>\n",
              "      <td>8</td>\n",
              "    </tr>\n",
              "    <tr>\n",
              "      <th>9</th>\n",
              "      <td>0.335204</td>\n",
              "      <td>0.862500</td>\n",
              "      <td>0.354501</td>\n",
              "      <td>0.858125</td>\n",
              "      <td>9</td>\n",
              "    </tr>\n",
              "  </tbody>\n",
              "</table>\n",
              "</div>"
            ],
            "text/plain": [
              "       loss  accuracy  val_loss  val_accuracy  epoch\n",
              "0  0.475060  0.788125  0.445612      0.803125      0\n",
              "1  0.424908  0.816094  0.418971      0.820000      1\n",
              "2  0.399899  0.835000  0.401040      0.831875      2\n",
              "3  0.379233  0.843594  0.381103      0.841875      3\n",
              "4  0.363712  0.851875  0.369280      0.846250      4\n",
              "5  0.351946  0.855156  0.362723      0.849375      5\n",
              "6  0.345305  0.857188  0.358907      0.848750      6\n",
              "7  0.341199  0.860625  0.355518      0.859375      7\n",
              "8  0.337283  0.862344  0.355294      0.853125      8\n",
              "9  0.335204  0.862500  0.354501      0.858125      9"
            ]
          },
          "metadata": {},
          "execution_count": 22
        }
      ]
    },
    {
      "cell_type": "code",
      "metadata": {
        "colab": {
          "base_uri": "https://localhost:8080/"
        },
        "id": "7FpgwP9Tls4Y",
        "outputId": "38dd674c-2d7b-4cbb-a0d1-d05abc7a9207"
      },
      "source": [
        "model.predict(X_train)"
      ],
      "execution_count": 27,
      "outputs": [
        {
          "output_type": "execute_result",
          "data": {
            "text/plain": [
              "array([[0.04349512],\n",
              "       [0.45918626],\n",
              "       [0.1447626 ],\n",
              "       ...,\n",
              "       [0.08731177],\n",
              "       [0.02651837],\n",
              "       [0.7787372 ]], dtype=float32)"
            ]
          },
          "metadata": {},
          "execution_count": 27
        }
      ]
    },
    {
      "cell_type": "code",
      "metadata": {
        "colab": {
          "base_uri": "https://localhost:8080/"
        },
        "id": "o9aL_ihTqthb",
        "outputId": "fb1a8f88-5c0e-452c-b01f-99a06f57ddce"
      },
      "source": [
        "model.predict(X_train)"
      ],
      "execution_count": 34,
      "outputs": [
        {
          "output_type": "execute_result",
          "data": {
            "text/plain": [
              "(8000, 1)"
            ]
          },
          "metadata": {},
          "execution_count": 34
        }
      ]
    },
    {
      "cell_type": "markdown",
      "metadata": {
        "id": "wdu_7ADcquV3"
      },
      "source": [
        "####Optimal Threshold"
      ]
    },
    {
      "cell_type": "code",
      "metadata": {
        "colab": {
          "base_uri": "https://localhost:8080/"
        },
        "id": "SJcT20Ehq0Sv",
        "outputId": "35a1c769-4ef2-47ed-ec27-0aaff56c7c4c"
      },
      "source": [
        "# Optimal threshold as per AUC-ROC curve\n",
        "# The optimal cut off would be where tpr is high and fpr is low\n",
        "\n",
        "fpr, tpr, thresholds = metrics.roc_curve(y_train, model.predict(X_train))\n",
        "\n",
        "optimal_idx = np.argmax(tpr - fpr)\n",
        "optimal_threshold_auc_roc = thresholds[optimal_idx]\n",
        "print(optimal_threshold_auc_roc)\n",
        "\n",
        "\n"
      ],
      "execution_count": 39,
      "outputs": [
        {
          "output_type": "stream",
          "text": [
            "0.26189983\n"
          ],
          "name": "stdout"
        }
      ]
    },
    {
      "cell_type": "code",
      "metadata": {
        "id": "PxH31T8SsqOK"
      },
      "source": [
        "def get_metrics_score(model,train,test,train_y,test_y,threshold=0.5,flag=True,roc=False):\n",
        "    '''\n",
        "    Function to calculate different metric scores of the model - Accuracy, Recall, Precision, and F1 score\n",
        "    model: classifier to predict values of X\n",
        "    train, test: Independent features\n",
        "    train_y,test_y: Dependent variable\n",
        "    threshold: thresold for classifiying the observation as 1\n",
        "    flag: If the flag is set to True then only the print statements showing different will be displayed. The default value is set to True.\n",
        "    roc: If the roc is set to True then only roc score will be displayed. The default value is set to False.\n",
        "    '''\n",
        "    # defining an empty list to store train and test results\n",
        "    \n",
        "    score_list=[] \n",
        "    \n",
        "    pred_train = (model.predict(train)>threshold)\n",
        "    pred_test = (model.predict(test)>threshold)\n",
        "\n",
        "    pred_train = np.round(pred_train)\n",
        "    pred_test = np.round(pred_test)\n",
        "    \n",
        "    train_acc = accuracy_score(pred_train,train_y)\n",
        "    test_acc = accuracy_score(pred_test,test_y)\n",
        "    \n",
        "    train_recall = recall_score(train_y,pred_train)\n",
        "    test_recall = recall_score(test_y,pred_test)\n",
        "    \n",
        "    train_precision = precision_score(train_y,pred_train)\n",
        "    test_precision = precision_score(test_y,pred_test)\n",
        "    \n",
        "    train_f1 = f1_score(train_y,pred_train)\n",
        "    test_f1 = f1_score(test_y,pred_test)\n",
        "    \n",
        "    \n",
        "    score_list.extend((train_acc,test_acc,train_recall,test_recall,train_precision,test_precision,train_f1,test_f1))\n",
        "        \n",
        "    \n",
        "    if flag == True: \n",
        "        print(\"Accuracy on training set : \",accuracy_score(pred_train,train_y))\n",
        "        print(\"Accuracy on test set : \",accuracy_score(pred_test,test_y))\n",
        "        print(\"Recall on training set : \",recall_score(train_y,pred_train))\n",
        "        print(\"Recall on test set : \",recall_score(test_y,pred_test))\n",
        "        print(\"Precision on training set : \",precision_score(train_y,pred_train))\n",
        "        print(\"Precision on test set : \",precision_score(test_y,pred_test))\n",
        "        print(\"F1 on training set : \",f1_score(train_y,pred_train))\n",
        "        print(\"F1 on test set : \",f1_score(test_y,pred_test))\n",
        "   \n",
        "    if roc == True:\n",
        "        print(\"ROC-AUC Score on training set : \",roc_auc_score(train_y,pred_train))\n",
        "        print(\"ROC-AUC Score on test set : \",roc_auc_score(test_y,pred_test))\n",
        "    \n",
        "    return score_list # returning the list with train and test scores"
      ],
      "execution_count": 46,
      "outputs": []
    },
    {
      "cell_type": "code",
      "metadata": {
        "colab": {
          "base_uri": "https://localhost:8080/"
        },
        "id": "cwDMYd64ve40",
        "outputId": "247a26ee-d1fe-45ce-f3b0-b7f704ffa6cd"
      },
      "source": [
        "scores_op = get_metrics_score(model,X_train,X_test,y_train,y_test,threshold=optimal_threshold_auc_roc,roc=True)"
      ],
      "execution_count": 49,
      "outputs": [
        {
          "output_type": "stream",
          "text": [
            "Accuracy on training set :  0.80925\n",
            "Accuracy on test set :  0.7925\n",
            "Recall on training set :  0.7261029411764706\n",
            "Recall on test set :  0.7604938271604939\n",
            "Precision on training set :  0.5234098939929329\n",
            "Precision on test set :  0.49201277955271566\n",
            "F1 on training set :  0.6083162217659137\n",
            "F1 on test set :  0.597478176527643\n",
            "ROC-AUC Score on training set :  0.7783309932013006\n",
            "ROC-AUC Score on test set :  0.7805603932040713\n"
          ],
          "name": "stdout"
        }
      ]
    }
  ]
}