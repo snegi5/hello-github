{
  "nbformat": 4,
  "nbformat_minor": 0,
  "metadata": {
    "colab": {
      "name": "Module_7.ipynb",
      "provenance": [],
      "collapsed_sections": [],
      "authorship_tag": "ABX9TyPRPd2nUVMrH94Ag1hOUC0T",
      "include_colab_link": true
    },
    "kernelspec": {
      "name": "python3",
      "display_name": "Python 3"
    },
    "language_info": {
      "name": "python"
    }
  },
  "cells": [
    {
      "cell_type": "markdown",
      "metadata": {
        "id": "view-in-github",
        "colab_type": "text"
      },
      "source": [
        "<a href=\"https://colab.research.google.com/github/snegi5/hello-github/blob/master/Module_7.ipynb\" target=\"_parent\"><img src=\"https://colab.research.google.com/assets/colab-badge.svg\" alt=\"Open In Colab\"/></a>"
      ]
    },
    {
      "cell_type": "markdown",
      "metadata": {
        "id": "e7vNpI4bMIPo"
      },
      "source": [
        "### Background \n",
        "Businesses like banks that provide service have to worry about the problem of 'Churn' i.e. customers leaving and joining another service provider. It is important to understand which aspects of the service influence a customer's decision in this regard. Management can concentrate efforts on the improvement of service, keeping in mind these priorities.\n",
        "\n",
        "### Problem Statement\n",
        "Using Neural Network crete a model to predict if the customer is likely to leave the bank or not. So that bank can take necessarry steps to avoid customer churn.\n",
        "\n",
        "### Data Description\n",
        "\n",
        "The case study is from an open-source dataset from Kaggle. The dataset contains 10,000 sample points with 14 distinct features such as CustomerId, CreditScore, Geography, Gender, Age, Tenure, Balance, etc.\n",
        "\n",
        "\n",
        "* CustomerId: Unique ID which is assigned to each customer\n",
        "* Surname: Last name of the customer \n",
        "* CreditScore: It defines the credit history of the customer.  \n",
        "* Geography: A customer’s location    \n",
        "* Gender: It defines the Gender of the customer   \n",
        "* Age: Age of the customer     \n",
        "* Tenure: Number of years for which the customer has been with the bank\n",
        "* NumOfProducts: It refers to the number of products that a customer has  purchased through the bank.\n",
        "* Balance: Account balance\n",
        "* HasCrCard: It is a categorical variable that decides whether the customer has a credit card or not.\n",
        "* EstimatedSalary: Estimated salary \n",
        "* isActiveMember: It is a categorical variable that decides whether the customer is an active member of the bank or not ( Active member in the sense, using bank products regularly, making transactions, etc )\n",
        "*Excited: It is a categorical variable that decides whether the customer left the bank within six months or not. It can take two values \n",
        "                    0=No ( Customer did not leave the bank )\n",
        "\n",
        "                    1=Yes ( Customer left the bank )"
      ]
    },
    {
      "cell_type": "code",
      "metadata": {
        "id": "tjnx1b1QMGtz"
      },
      "source": [
        "import numpy as np\n",
        "import pandas as pd\n",
        "\n",
        "# libaries to help with data visualization\n",
        "import matplotlib.pyplot as plt\n",
        "import seaborn as sns\n",
        "from sklearn.preprocessing import LabelEncoder, OneHotEncoder\n",
        "from sklearn.model_selection import train_test_split\n",
        "from sklearn.preprocessing import StandardScaler\n",
        "\n",
        "from sklearn import metrics\n",
        "#from sklearn.metrics import accuracy_score, confusion_matrix, precision_score, recall_score, f1_score, precision_recall_curve, auc\n",
        "from sklearn.metrics import accuracy_score, recall_score, precision_score, f1_score, roc_auc_score, roc_curve, confusion_matrix, precision_recall_curve,auc\n",
        "\n",
        "import tensorflow as tf\n",
        "import keras\n",
        "from keras.models import Sequential#For building the Neural Network layer by layer\n",
        "from keras.layers import Dense#To randomly initialize the weights to small numbers close to 0(But not 0)\n",
        "\n",
        "\n",
        "\n",
        "\n",
        "\n",
        "import warnings\n",
        "warnings.filterwarnings(\"ignore\")\n",
        "from google.colab import files"
      ],
      "execution_count": 51,
      "outputs": []
    },
    {
      "cell_type": "markdown",
      "metadata": {
        "id": "xqZb53-a_V7i"
      },
      "source": [
        "#### Reading dataset"
      ]
    },
    {
      "cell_type": "code",
      "metadata": {
        "colab": {
          "base_uri": "https://localhost:8080/",
          "height": 359
        },
        "id": "6fm-CdRm5LD0",
        "outputId": "1b9c82ef-71d3-406d-db6c-d5516a04d2ff"
      },
      "source": [
        "data = pd.read_csv('bank.csv')\n",
        "data.sample(10)"
      ],
      "execution_count": 52,
      "outputs": [
        {
          "output_type": "execute_result",
          "data": {
            "text/html": [
              "<div>\n",
              "<style scoped>\n",
              "    .dataframe tbody tr th:only-of-type {\n",
              "        vertical-align: middle;\n",
              "    }\n",
              "\n",
              "    .dataframe tbody tr th {\n",
              "        vertical-align: top;\n",
              "    }\n",
              "\n",
              "    .dataframe thead th {\n",
              "        text-align: right;\n",
              "    }\n",
              "</style>\n",
              "<table border=\"1\" class=\"dataframe\">\n",
              "  <thead>\n",
              "    <tr style=\"text-align: right;\">\n",
              "      <th></th>\n",
              "      <th>RowNumber</th>\n",
              "      <th>CustomerId</th>\n",
              "      <th>Surname</th>\n",
              "      <th>CreditScore</th>\n",
              "      <th>Geography</th>\n",
              "      <th>Gender</th>\n",
              "      <th>Age</th>\n",
              "      <th>Tenure</th>\n",
              "      <th>Balance</th>\n",
              "      <th>NumOfProducts</th>\n",
              "      <th>HasCrCard</th>\n",
              "      <th>IsActiveMember</th>\n",
              "      <th>EstimatedSalary</th>\n",
              "      <th>Exited</th>\n",
              "    </tr>\n",
              "  </thead>\n",
              "  <tbody>\n",
              "    <tr>\n",
              "      <th>7184</th>\n",
              "      <td>7185</td>\n",
              "      <td>15762799</td>\n",
              "      <td>Alexander</td>\n",
              "      <td>720</td>\n",
              "      <td>Germany</td>\n",
              "      <td>Male</td>\n",
              "      <td>23</td>\n",
              "      <td>0</td>\n",
              "      <td>187861.18</td>\n",
              "      <td>2</td>\n",
              "      <td>1</td>\n",
              "      <td>1</td>\n",
              "      <td>104120.17</td>\n",
              "      <td>0</td>\n",
              "    </tr>\n",
              "    <tr>\n",
              "      <th>7990</th>\n",
              "      <td>7991</td>\n",
              "      <td>15643635</td>\n",
              "      <td>Robertson</td>\n",
              "      <td>664</td>\n",
              "      <td>Spain</td>\n",
              "      <td>Male</td>\n",
              "      <td>32</td>\n",
              "      <td>5</td>\n",
              "      <td>133705.74</td>\n",
              "      <td>1</td>\n",
              "      <td>0</td>\n",
              "      <td>0</td>\n",
              "      <td>134455.84</td>\n",
              "      <td>0</td>\n",
              "    </tr>\n",
              "    <tr>\n",
              "      <th>1925</th>\n",
              "      <td>1926</td>\n",
              "      <td>15757931</td>\n",
              "      <td>Fang</td>\n",
              "      <td>804</td>\n",
              "      <td>France</td>\n",
              "      <td>Male</td>\n",
              "      <td>24</td>\n",
              "      <td>3</td>\n",
              "      <td>0.00</td>\n",
              "      <td>2</td>\n",
              "      <td>1</td>\n",
              "      <td>0</td>\n",
              "      <td>173195.33</td>\n",
              "      <td>0</td>\n",
              "    </tr>\n",
              "    <tr>\n",
              "      <th>1389</th>\n",
              "      <td>1390</td>\n",
              "      <td>15684196</td>\n",
              "      <td>Aitken</td>\n",
              "      <td>627</td>\n",
              "      <td>France</td>\n",
              "      <td>Female</td>\n",
              "      <td>55</td>\n",
              "      <td>2</td>\n",
              "      <td>159441.27</td>\n",
              "      <td>1</td>\n",
              "      <td>1</td>\n",
              "      <td>0</td>\n",
              "      <td>100686.11</td>\n",
              "      <td>1</td>\n",
              "    </tr>\n",
              "    <tr>\n",
              "      <th>7203</th>\n",
              "      <td>7204</td>\n",
              "      <td>15657778</td>\n",
              "      <td>Jefferson</td>\n",
              "      <td>657</td>\n",
              "      <td>France</td>\n",
              "      <td>Male</td>\n",
              "      <td>33</td>\n",
              "      <td>1</td>\n",
              "      <td>84309.57</td>\n",
              "      <td>2</td>\n",
              "      <td>0</td>\n",
              "      <td>0</td>\n",
              "      <td>103914.40</td>\n",
              "      <td>0</td>\n",
              "    </tr>\n",
              "    <tr>\n",
              "      <th>6745</th>\n",
              "      <td>6746</td>\n",
              "      <td>15786454</td>\n",
              "      <td>Moore</td>\n",
              "      <td>552</td>\n",
              "      <td>Spain</td>\n",
              "      <td>Male</td>\n",
              "      <td>55</td>\n",
              "      <td>3</td>\n",
              "      <td>0.00</td>\n",
              "      <td>1</td>\n",
              "      <td>1</td>\n",
              "      <td>1</td>\n",
              "      <td>40333.94</td>\n",
              "      <td>0</td>\n",
              "    </tr>\n",
              "    <tr>\n",
              "      <th>8465</th>\n",
              "      <td>8466</td>\n",
              "      <td>15601569</td>\n",
              "      <td>Ndubueze</td>\n",
              "      <td>598</td>\n",
              "      <td>France</td>\n",
              "      <td>Female</td>\n",
              "      <td>40</td>\n",
              "      <td>2</td>\n",
              "      <td>171178.25</td>\n",
              "      <td>1</td>\n",
              "      <td>1</td>\n",
              "      <td>0</td>\n",
              "      <td>137980.58</td>\n",
              "      <td>1</td>\n",
              "    </tr>\n",
              "    <tr>\n",
              "      <th>4671</th>\n",
              "      <td>4672</td>\n",
              "      <td>15808674</td>\n",
              "      <td>Ejikemeifeuwa</td>\n",
              "      <td>616</td>\n",
              "      <td>Germany</td>\n",
              "      <td>Female</td>\n",
              "      <td>45</td>\n",
              "      <td>6</td>\n",
              "      <td>128352.59</td>\n",
              "      <td>3</td>\n",
              "      <td>1</td>\n",
              "      <td>1</td>\n",
              "      <td>144000.59</td>\n",
              "      <td>1</td>\n",
              "    </tr>\n",
              "    <tr>\n",
              "      <th>7843</th>\n",
              "      <td>7844</td>\n",
              "      <td>15766288</td>\n",
              "      <td>Ikechukwu</td>\n",
              "      <td>586</td>\n",
              "      <td>Germany</td>\n",
              "      <td>Female</td>\n",
              "      <td>36</td>\n",
              "      <td>5</td>\n",
              "      <td>103700.69</td>\n",
              "      <td>1</td>\n",
              "      <td>1</td>\n",
              "      <td>0</td>\n",
              "      <td>194072.56</td>\n",
              "      <td>1</td>\n",
              "    </tr>\n",
              "    <tr>\n",
              "      <th>9530</th>\n",
              "      <td>9531</td>\n",
              "      <td>15584452</td>\n",
              "      <td>Bozeman</td>\n",
              "      <td>667</td>\n",
              "      <td>France</td>\n",
              "      <td>Male</td>\n",
              "      <td>41</td>\n",
              "      <td>6</td>\n",
              "      <td>0.00</td>\n",
              "      <td>2</td>\n",
              "      <td>0</td>\n",
              "      <td>0</td>\n",
              "      <td>167181.77</td>\n",
              "      <td>0</td>\n",
              "    </tr>\n",
              "  </tbody>\n",
              "</table>\n",
              "</div>"
            ],
            "text/plain": [
              "      RowNumber  CustomerId  ... EstimatedSalary  Exited\n",
              "7184       7185    15762799  ...       104120.17       0\n",
              "7990       7991    15643635  ...       134455.84       0\n",
              "1925       1926    15757931  ...       173195.33       0\n",
              "1389       1390    15684196  ...       100686.11       1\n",
              "7203       7204    15657778  ...       103914.40       0\n",
              "6745       6746    15786454  ...        40333.94       0\n",
              "8465       8466    15601569  ...       137980.58       1\n",
              "4671       4672    15808674  ...       144000.59       1\n",
              "7843       7844    15766288  ...       194072.56       1\n",
              "9530       9531    15584452  ...       167181.77       0\n",
              "\n",
              "[10 rows x 14 columns]"
            ]
          },
          "metadata": {},
          "execution_count": 52
        }
      ]
    },
    {
      "cell_type": "code",
      "metadata": {
        "colab": {
          "base_uri": "https://localhost:8080/"
        },
        "id": "Wm5oB3v05OBt",
        "outputId": "55d3141d-cba5-49a8-b96b-186f10b05d2f"
      },
      "source": [
        "data.shape"
      ],
      "execution_count": 53,
      "outputs": [
        {
          "output_type": "execute_result",
          "data": {
            "text/plain": [
              "(10000, 14)"
            ]
          },
          "metadata": {},
          "execution_count": 53
        }
      ]
    },
    {
      "cell_type": "markdown",
      "metadata": {
        "id": "2vJU7HMz_-RJ"
      },
      "source": [
        "* There are 10000 observations and 14 coumns in the data set."
      ]
    },
    {
      "cell_type": "code",
      "metadata": {
        "colab": {
          "base_uri": "https://localhost:8080/"
        },
        "id": "bxM2VKBgAHhx",
        "outputId": "34aa1a67-19f8-452f-a604-dfeb7876ea28"
      },
      "source": [
        "data.info()"
      ],
      "execution_count": 54,
      "outputs": [
        {
          "output_type": "stream",
          "text": [
            "<class 'pandas.core.frame.DataFrame'>\n",
            "RangeIndex: 10000 entries, 0 to 9999\n",
            "Data columns (total 14 columns):\n",
            " #   Column           Non-Null Count  Dtype  \n",
            "---  ------           --------------  -----  \n",
            " 0   RowNumber        10000 non-null  int64  \n",
            " 1   CustomerId       10000 non-null  int64  \n",
            " 2   Surname          10000 non-null  object \n",
            " 3   CreditScore      10000 non-null  int64  \n",
            " 4   Geography        10000 non-null  object \n",
            " 5   Gender           10000 non-null  object \n",
            " 6   Age              10000 non-null  int64  \n",
            " 7   Tenure           10000 non-null  int64  \n",
            " 8   Balance          10000 non-null  float64\n",
            " 9   NumOfProducts    10000 non-null  int64  \n",
            " 10  HasCrCard        10000 non-null  int64  \n",
            " 11  IsActiveMember   10000 non-null  int64  \n",
            " 12  EstimatedSalary  10000 non-null  float64\n",
            " 13  Exited           10000 non-null  int64  \n",
            "dtypes: float64(2), int64(9), object(3)\n",
            "memory usage: 1.1+ MB\n"
          ],
          "name": "stdout"
        }
      ]
    },
    {
      "cell_type": "markdown",
      "metadata": {
        "id": "sjlHLUQFAPdf"
      },
      "source": [
        "* we can see that there are no null values in the data.\n",
        "* Surname, Geography and Gender are only 3 object(String) datatypes.\n",
        "* Also, features like Rownumber, CustomerId and Surname are not relevant as these are unique id's and customer last name."
      ]
    },
    {
      "cell_type": "markdown",
      "metadata": {
        "id": "q14HhpkxAdlr"
      },
      "source": [
        "##### Dropping RowNumber, CustomerId and Surname.\n"
      ]
    },
    {
      "cell_type": "code",
      "metadata": {
        "id": "af9Glnv2AfWI"
      },
      "source": [
        "# dropping unneccessary columns.\n",
        "data.drop(columns=['RowNumber','CustomerId','Surname'],inplace=True)"
      ],
      "execution_count": 55,
      "outputs": []
    },
    {
      "cell_type": "markdown",
      "metadata": {
        "id": "BywdNCOUPrW-"
      },
      "source": [
        "* RowNumber and CustomerId are unique numbers that identifies the customers and are requiired for model building.\n",
        "* Surname also does not contribute to the class output."
      ]
    },
    {
      "cell_type": "code",
      "metadata": {
        "colab": {
          "base_uri": "https://localhost:8080/",
          "height": 204
        },
        "id": "uNKrDOrIAidA",
        "outputId": "bd7fc151-1b4d-4139-8c26-a4a66e1bccd3"
      },
      "source": [
        "data.sample(5)"
      ],
      "execution_count": 56,
      "outputs": [
        {
          "output_type": "execute_result",
          "data": {
            "text/html": [
              "<div>\n",
              "<style scoped>\n",
              "    .dataframe tbody tr th:only-of-type {\n",
              "        vertical-align: middle;\n",
              "    }\n",
              "\n",
              "    .dataframe tbody tr th {\n",
              "        vertical-align: top;\n",
              "    }\n",
              "\n",
              "    .dataframe thead th {\n",
              "        text-align: right;\n",
              "    }\n",
              "</style>\n",
              "<table border=\"1\" class=\"dataframe\">\n",
              "  <thead>\n",
              "    <tr style=\"text-align: right;\">\n",
              "      <th></th>\n",
              "      <th>CreditScore</th>\n",
              "      <th>Geography</th>\n",
              "      <th>Gender</th>\n",
              "      <th>Age</th>\n",
              "      <th>Tenure</th>\n",
              "      <th>Balance</th>\n",
              "      <th>NumOfProducts</th>\n",
              "      <th>HasCrCard</th>\n",
              "      <th>IsActiveMember</th>\n",
              "      <th>EstimatedSalary</th>\n",
              "      <th>Exited</th>\n",
              "    </tr>\n",
              "  </thead>\n",
              "  <tbody>\n",
              "    <tr>\n",
              "      <th>8186</th>\n",
              "      <td>606</td>\n",
              "      <td>France</td>\n",
              "      <td>Female</td>\n",
              "      <td>39</td>\n",
              "      <td>3</td>\n",
              "      <td>0.00</td>\n",
              "      <td>2</td>\n",
              "      <td>1</td>\n",
              "      <td>0</td>\n",
              "      <td>50560.45</td>\n",
              "      <td>1</td>\n",
              "    </tr>\n",
              "    <tr>\n",
              "      <th>772</th>\n",
              "      <td>589</td>\n",
              "      <td>France</td>\n",
              "      <td>Male</td>\n",
              "      <td>32</td>\n",
              "      <td>2</td>\n",
              "      <td>0.00</td>\n",
              "      <td>2</td>\n",
              "      <td>0</td>\n",
              "      <td>1</td>\n",
              "      <td>9468.64</td>\n",
              "      <td>0</td>\n",
              "    </tr>\n",
              "    <tr>\n",
              "      <th>3669</th>\n",
              "      <td>653</td>\n",
              "      <td>France</td>\n",
              "      <td>Male</td>\n",
              "      <td>29</td>\n",
              "      <td>2</td>\n",
              "      <td>0.00</td>\n",
              "      <td>2</td>\n",
              "      <td>1</td>\n",
              "      <td>1</td>\n",
              "      <td>41671.81</td>\n",
              "      <td>0</td>\n",
              "    </tr>\n",
              "    <tr>\n",
              "      <th>1769</th>\n",
              "      <td>607</td>\n",
              "      <td>Germany</td>\n",
              "      <td>Male</td>\n",
              "      <td>39</td>\n",
              "      <td>2</td>\n",
              "      <td>84468.67</td>\n",
              "      <td>2</td>\n",
              "      <td>1</td>\n",
              "      <td>1</td>\n",
              "      <td>121945.42</td>\n",
              "      <td>0</td>\n",
              "    </tr>\n",
              "    <tr>\n",
              "      <th>1088</th>\n",
              "      <td>850</td>\n",
              "      <td>Spain</td>\n",
              "      <td>Male</td>\n",
              "      <td>22</td>\n",
              "      <td>2</td>\n",
              "      <td>0.00</td>\n",
              "      <td>2</td>\n",
              "      <td>1</td>\n",
              "      <td>1</td>\n",
              "      <td>9684.52</td>\n",
              "      <td>0</td>\n",
              "    </tr>\n",
              "  </tbody>\n",
              "</table>\n",
              "</div>"
            ],
            "text/plain": [
              "      CreditScore Geography  Gender  ...  IsActiveMember  EstimatedSalary  Exited\n",
              "8186          606    France  Female  ...               0         50560.45       1\n",
              "772           589    France    Male  ...               1          9468.64       0\n",
              "3669          653    France    Male  ...               1         41671.81       0\n",
              "1769          607   Germany    Male  ...               1        121945.42       0\n",
              "1088          850     Spain    Male  ...               1          9684.52       0\n",
              "\n",
              "[5 rows x 11 columns]"
            ]
          },
          "metadata": {},
          "execution_count": 56
        }
      ]
    },
    {
      "cell_type": "code",
      "metadata": {
        "colab": {
          "base_uri": "https://localhost:8080/",
          "height": 328
        },
        "id": "Tznw-lg6AvGu",
        "outputId": "f85f7be2-2bf7-4660-e757-f8ab028ec2d6"
      },
      "source": [
        "data.describe().T"
      ],
      "execution_count": 57,
      "outputs": [
        {
          "output_type": "execute_result",
          "data": {
            "text/html": [
              "<div>\n",
              "<style scoped>\n",
              "    .dataframe tbody tr th:only-of-type {\n",
              "        vertical-align: middle;\n",
              "    }\n",
              "\n",
              "    .dataframe tbody tr th {\n",
              "        vertical-align: top;\n",
              "    }\n",
              "\n",
              "    .dataframe thead th {\n",
              "        text-align: right;\n",
              "    }\n",
              "</style>\n",
              "<table border=\"1\" class=\"dataframe\">\n",
              "  <thead>\n",
              "    <tr style=\"text-align: right;\">\n",
              "      <th></th>\n",
              "      <th>count</th>\n",
              "      <th>mean</th>\n",
              "      <th>std</th>\n",
              "      <th>min</th>\n",
              "      <th>25%</th>\n",
              "      <th>50%</th>\n",
              "      <th>75%</th>\n",
              "      <th>max</th>\n",
              "    </tr>\n",
              "  </thead>\n",
              "  <tbody>\n",
              "    <tr>\n",
              "      <th>CreditScore</th>\n",
              "      <td>10000.0</td>\n",
              "      <td>650.528800</td>\n",
              "      <td>96.653299</td>\n",
              "      <td>350.00</td>\n",
              "      <td>584.00</td>\n",
              "      <td>652.000</td>\n",
              "      <td>718.0000</td>\n",
              "      <td>850.00</td>\n",
              "    </tr>\n",
              "    <tr>\n",
              "      <th>Age</th>\n",
              "      <td>10000.0</td>\n",
              "      <td>38.921800</td>\n",
              "      <td>10.487806</td>\n",
              "      <td>18.00</td>\n",
              "      <td>32.00</td>\n",
              "      <td>37.000</td>\n",
              "      <td>44.0000</td>\n",
              "      <td>92.00</td>\n",
              "    </tr>\n",
              "    <tr>\n",
              "      <th>Tenure</th>\n",
              "      <td>10000.0</td>\n",
              "      <td>5.012800</td>\n",
              "      <td>2.892174</td>\n",
              "      <td>0.00</td>\n",
              "      <td>3.00</td>\n",
              "      <td>5.000</td>\n",
              "      <td>7.0000</td>\n",
              "      <td>10.00</td>\n",
              "    </tr>\n",
              "    <tr>\n",
              "      <th>Balance</th>\n",
              "      <td>10000.0</td>\n",
              "      <td>76485.889288</td>\n",
              "      <td>62397.405202</td>\n",
              "      <td>0.00</td>\n",
              "      <td>0.00</td>\n",
              "      <td>97198.540</td>\n",
              "      <td>127644.2400</td>\n",
              "      <td>250898.09</td>\n",
              "    </tr>\n",
              "    <tr>\n",
              "      <th>NumOfProducts</th>\n",
              "      <td>10000.0</td>\n",
              "      <td>1.530200</td>\n",
              "      <td>0.581654</td>\n",
              "      <td>1.00</td>\n",
              "      <td>1.00</td>\n",
              "      <td>1.000</td>\n",
              "      <td>2.0000</td>\n",
              "      <td>4.00</td>\n",
              "    </tr>\n",
              "    <tr>\n",
              "      <th>HasCrCard</th>\n",
              "      <td>10000.0</td>\n",
              "      <td>0.705500</td>\n",
              "      <td>0.455840</td>\n",
              "      <td>0.00</td>\n",
              "      <td>0.00</td>\n",
              "      <td>1.000</td>\n",
              "      <td>1.0000</td>\n",
              "      <td>1.00</td>\n",
              "    </tr>\n",
              "    <tr>\n",
              "      <th>IsActiveMember</th>\n",
              "      <td>10000.0</td>\n",
              "      <td>0.515100</td>\n",
              "      <td>0.499797</td>\n",
              "      <td>0.00</td>\n",
              "      <td>0.00</td>\n",
              "      <td>1.000</td>\n",
              "      <td>1.0000</td>\n",
              "      <td>1.00</td>\n",
              "    </tr>\n",
              "    <tr>\n",
              "      <th>EstimatedSalary</th>\n",
              "      <td>10000.0</td>\n",
              "      <td>100090.239881</td>\n",
              "      <td>57510.492818</td>\n",
              "      <td>11.58</td>\n",
              "      <td>51002.11</td>\n",
              "      <td>100193.915</td>\n",
              "      <td>149388.2475</td>\n",
              "      <td>199992.48</td>\n",
              "    </tr>\n",
              "    <tr>\n",
              "      <th>Exited</th>\n",
              "      <td>10000.0</td>\n",
              "      <td>0.203700</td>\n",
              "      <td>0.402769</td>\n",
              "      <td>0.00</td>\n",
              "      <td>0.00</td>\n",
              "      <td>0.000</td>\n",
              "      <td>0.0000</td>\n",
              "      <td>1.00</td>\n",
              "    </tr>\n",
              "  </tbody>\n",
              "</table>\n",
              "</div>"
            ],
            "text/plain": [
              "                   count           mean  ...          75%        max\n",
              "CreditScore      10000.0     650.528800  ...     718.0000     850.00\n",
              "Age              10000.0      38.921800  ...      44.0000      92.00\n",
              "Tenure           10000.0       5.012800  ...       7.0000      10.00\n",
              "Balance          10000.0   76485.889288  ...  127644.2400  250898.09\n",
              "NumOfProducts    10000.0       1.530200  ...       2.0000       4.00\n",
              "HasCrCard        10000.0       0.705500  ...       1.0000       1.00\n",
              "IsActiveMember   10000.0       0.515100  ...       1.0000       1.00\n",
              "EstimatedSalary  10000.0  100090.239881  ...  149388.2475  199992.48\n",
              "Exited           10000.0       0.203700  ...       0.0000       1.00\n",
              "\n",
              "[9 rows x 8 columns]"
            ]
          },
          "metadata": {},
          "execution_count": 57
        }
      ]
    },
    {
      "cell_type": "markdown",
      "metadata": {
        "id": "9hS-skyFAye6"
      },
      "source": [
        "* Mean and Median CreditScore are also same aroung 650.\n",
        "* Age is between the range from 18 to 92.it looks their are outlier in the age.\n",
        "* Tenure is between 0 to 10, with mean and median close to 5. There are customer in the bank with less than 1 year of tenure.\n",
        "* 25% of the customer has 0 Balance where as balance for top 25% of the customer is between 127644.2400 and 250898.09.\n",
        "* 50% of the customer has only 1 product with the bank.\n",
        "* 25% of the customer does not have a credit card where as other 75% of the customer has only 1 credit card.\n",
        "* 25% of the customer are not active member, remaining 75% are active member.\n",
        "* minimum estimayed salry is only 11.58. 50% of the customer earns less than 51002.11.\n",
        "\n"
      ]
    },
    {
      "cell_type": "markdown",
      "metadata": {
        "id": "Z-fwG1ISQWXc"
      },
      "source": [
        "##EDA"
      ]
    },
    {
      "cell_type": "markdown",
      "metadata": {
        "id": "3h4-g3grD9FF"
      },
      "source": [
        "### Checking if dataset is balanced or not."
      ]
    },
    {
      "cell_type": "code",
      "metadata": {
        "colab": {
          "base_uri": "https://localhost:8080/"
        },
        "id": "JeFLN1W7D7pe",
        "outputId": "c84c34a2-a12b-4b4e-8564-c2a57e5e2464"
      },
      "source": [
        "#checking the percentage of each class in the dataset\n",
        "(data.Exited.value_counts())/(data.Exited.count())\n"
      ],
      "execution_count": 58,
      "outputs": [
        {
          "output_type": "execute_result",
          "data": {
            "text/plain": [
              "0    0.7963\n",
              "1    0.2037\n",
              "Name: Exited, dtype: float64"
            ]
          },
          "metadata": {},
          "execution_count": 58
        }
      ]
    },
    {
      "cell_type": "markdown",
      "metadata": {
        "id": "m0bnzPxTEpVh"
      },
      "source": [
        "* As we can see data set is not balanced, 20%(2037) of the customer have left the bank out of 10000 observations."
      ]
    },
    {
      "cell_type": "markdown",
      "metadata": {
        "id": "bPpIYw-NA5v8"
      },
      "source": [
        "### Bivariate analysis"
      ]
    },
    {
      "cell_type": "code",
      "metadata": {
        "colab": {
          "base_uri": "https://localhost:8080/",
          "height": 516
        },
        "id": "natm36ZIA3Ey",
        "outputId": "9906667f-daa3-403a-cc06-c9e072b26a33"
      },
      "source": [
        "plt.figure(figsize=(15,7))\n",
        "sns.heatmap(data.corr(),annot=True,vmin=-1,vmax=1,fmt='.2f',cmap='Spectral')\n",
        "plt.show()"
      ],
      "execution_count": 59,
      "outputs": [
        {
          "output_type": "display_data",
          "data": {
            "image/png": "[encoded data removed]",
            "text/plain": [
              "<Figure size 1080x504 with 2 Axes>"
            ]
          },
          "metadata": {}
        }
      ]
    },
    {
      "cell_type": "markdown",
      "metadata": {
        "id": "bUC3rhzrBBt9"
      },
      "source": [
        "* There is some week correlation between Exited and Age and between Exited and Balance.\n",
        "* There is also some week negative correlation between Exited and IsActiveMember and between Balance and Balance and NumberOfProducts."
      ]
    },
    {
      "cell_type": "code",
      "metadata": {
        "id": "YJM5bprQBFwt"
      },
      "source": [
        "### Function to plot distributions and Boxplots of customers\n",
        "def plot(x,target='Exited'):\n",
        "    fig,axs = plt.subplots(2,2,figsize=(12,10))\n",
        "    axs[0, 0].set_title('Distribution of an Exited Customer')\n",
        "    sns.distplot(data[(data[target] == 1)][x],ax=axs[0,0],color='teal')\n",
        "    axs[0, 1].set_title('Distribution of an Existing Customer')\n",
        "    sns.distplot(data[(data[target] == 0)][x],ax=axs[0,1],color='orange')\n",
        "    axs[1,0].set_title('Boxplot w.r.t Exited')\n",
        "    sns.boxplot(data[target],data[x],ax=axs[1,0],palette='gist_rainbow')\n",
        "    axs[1,1].set_title('Boxplot w.r.t Exited - Without outliers')\n",
        "    sns.boxplot(data[target],data[x],ax=axs[1,1],showfliers=False,palette='gist_rainbow')\n",
        "    plt.tight_layout()\n",
        "    plt.show()"
      ],
      "execution_count": 60,
      "outputs": []
    },
    {
      "cell_type": "code",
      "metadata": {
        "id": "8wMSKBuFQqbu"
      },
      "source": [
        "### Function to plot stacked bar charts for categorical columns\n",
        "def stacked_plot(x):\n",
        "    sns.set()\n",
        "    ## crosstab \n",
        "    tab1 = pd.crosstab(x,data['Exited'],margins=True).sort_values(by=1,ascending=False)\n",
        "    print(tab1)\n",
        "    print('-'*120)\n",
        "    ## visualising the cross tab\n",
        "    tab = pd.crosstab(x,data['Exited'],normalize='index').sort_values(by=1,ascending=False)\n",
        "    tab.plot(kind='bar',stacked=True,figsize=(17,7))\n",
        "    plt.legend(loc='lower left', frameon=False,)\n",
        "    plt.legend(loc=\"upper left\", bbox_to_anchor=(1,1))\n",
        "    plt.show()"
      ],
      "execution_count": 61,
      "outputs": []
    },
    {
      "cell_type": "code",
      "metadata": {
        "colab": {
          "base_uri": "https://localhost:8080/",
          "height": 580
        },
        "id": "FbFppmYXQ31e",
        "outputId": "aa96e567-fecf-4769-e26e-210750ae2e0f"
      },
      "source": [
        "stacked_plot(data['Gender'])"
      ],
      "execution_count": 62,
      "outputs": [
        {
          "output_type": "stream",
          "text": [
            "Exited     0     1    All\n",
            "Gender                   \n",
            "All     7963  2037  10000\n",
            "Female  3404  1139   4543\n",
            "Male    4559   898   5457\n",
            "------------------------------------------------------------------------------------------------------------------------\n"
          ],
          "name": "stdout"
        },
        {
          "output_type": "display_data",
          "data": {
            "image/png": "[encoded data removed]",
            "text/plain": [
              "<Figure size 1224x504 with 1 Axes>"
            ]
          },
          "metadata": {}
        }
      ]
    },
    {
      "cell_type": "markdown",
      "metadata": {
        "id": "MhOYK7CQRy4B"
      },
      "source": [
        "* we can see from the plot that distribution of data between male and female is almost same, There is not much variance.\n",
        "* Also, we can see that percentage of female leaving the bank is around 25% where as in Males it's less than 20%. "
      ]
    },
    {
      "cell_type": "code",
      "metadata": {
        "colab": {
          "base_uri": "https://localhost:8080/",
          "height": 608
        },
        "id": "54uSVOKZQ_rX",
        "outputId": "f0d8b4d5-eaf9-4dfb-a6b6-5c94cf12b46f"
      },
      "source": [
        "stacked_plot(data[\"Geography\"])"
      ],
      "execution_count": 63,
      "outputs": [
        {
          "output_type": "stream",
          "text": [
            "Exited        0     1    All\n",
            "Geography                   \n",
            "All        7963  2037  10000\n",
            "Germany    1695   814   2509\n",
            "France     4204   810   5014\n",
            "Spain      2064   413   2477\n",
            "------------------------------------------------------------------------------------------------------------------------\n"
          ],
          "name": "stdout"
        },
        {
          "output_type": "display_data",
          "data": {
            "image/png": "[encoded data removed]",
            "text/plain": [
              "<Figure size 1224x504 with 1 Axes>"
            ]
          },
          "metadata": {}
        }
      ]
    },
    {
      "cell_type": "markdown",
      "metadata": {
        "id": "xR5SWOTBS4x6"
      },
      "source": [
        "* we can see disribution of customers in terms of geography is\n",
        "Germany(25%), Spain(25%) and France(50%).\n",
        "* 50% of the customers are from France.\n",
        "* Around 17% of the customers from France and Spain have left the bank.\n",
        "* Around 32% of the customers from Germany have left the bank."
      ]
    },
    {
      "cell_type": "code",
      "metadata": {
        "colab": {
          "base_uri": "https://localhost:8080/",
          "height": 725
        },
        "id": "m5PKF5t2BIhm",
        "outputId": "1d516675-f8a1-45b7-d9e7-2ddcf5939181"
      },
      "source": [
        "plot('CreditScore')\n"
      ],
      "execution_count": 65,
      "outputs": [
        {
          "output_type": "display_data",
          "data": {
            "image/png": "[encoded data removed]",
            "text/plain": [
              "<Figure size 864x720 with 4 Axes>"
            ]
          },
          "metadata": {}
        }
      ]
    },
    {
      "cell_type": "markdown",
      "metadata": {
        "id": "patNPI8fVAmE"
      },
      "source": [
        "* There is no difference in the CreditScore of the customer who left the bank as compared to the existing customers."
      ]
    },
    {
      "cell_type": "code",
      "metadata": {
        "colab": {
          "base_uri": "https://localhost:8080/",
          "height": 725
        },
        "id": "dPNfjDdyV8li",
        "outputId": "6bc61a4f-7470-4426-ffce-1b59897ad7f0"
      },
      "source": [
        "plot('Age')"
      ],
      "execution_count": 66,
      "outputs": [
        {
          "output_type": "display_data",
          "data": {
            "image/png": "[encoded data removed]",
            "text/plain": [
              "<Figure size 864x720 with 4 Axes>"
            ]
          },
          "metadata": {}
        }
      ]
    },
    {
      "cell_type": "markdown",
      "metadata": {
        "id": "HQXtSgOIWPgI"
      },
      "source": [
        "* There is no much difference in the distribution of the Age between exited and existing customer."
      ]
    },
    {
      "cell_type": "code",
      "metadata": {
        "colab": {
          "base_uri": "https://localhost:8080/",
          "height": 725
        },
        "id": "-VKmthfgWfC0",
        "outputId": "c58dbb2f-a97f-4bb4-e004-c3fd32682651"
      },
      "source": [
        "plot(\"Tenure\")"
      ],
      "execution_count": 67,
      "outputs": [
        {
          "output_type": "display_data",
          "data": {
            "image/png": "[encoded data removed]",
            "text/plain": [
              "<Figure size 864x720 with 4 Axes>"
            ]
          },
          "metadata": {}
        }
      ]
    },
    {
      "cell_type": "code",
      "metadata": {
        "id": "84sv2qfxWin5"
      },
      "source": [
        ""
      ],
      "execution_count": null,
      "outputs": []
    },
    {
      "cell_type": "code",
      "metadata": {
        "colab": {
          "base_uri": "https://localhost:8080/",
          "height": 111
        },
        "id": "AP58pvQjTNTG",
        "outputId": "85d56f9e-7a64-4f25-cab9-24aa02cd48f3"
      },
      "source": [
        "# one hot encoding for Geography.\n",
        "data = pd.get_dummies(data, columns=['Geography','Gender'],drop_first=True)\n",
        "data.sample(2)"
      ],
      "execution_count": 18,
      "outputs": [
        {
          "output_type": "execute_result",
          "data": {
            "text/html": [
              "<div>\n",
              "<style scoped>\n",
              "    .dataframe tbody tr th:only-of-type {\n",
              "        vertical-align: middle;\n",
              "    }\n",
              "\n",
              "    .dataframe tbody tr th {\n",
              "        vertical-align: top;\n",
              "    }\n",
              "\n",
              "    .dataframe thead th {\n",
              "        text-align: right;\n",
              "    }\n",
              "</style>\n",
              "<table border=\"1\" class=\"dataframe\">\n",
              "  <thead>\n",
              "    <tr style=\"text-align: right;\">\n",
              "      <th></th>\n",
              "      <th>CreditScore</th>\n",
              "      <th>Age</th>\n",
              "      <th>Tenure</th>\n",
              "      <th>Balance</th>\n",
              "      <th>NumOfProducts</th>\n",
              "      <th>HasCrCard</th>\n",
              "      <th>IsActiveMember</th>\n",
              "      <th>EstimatedSalary</th>\n",
              "      <th>Exited</th>\n",
              "      <th>Geography_Germany</th>\n",
              "      <th>Geography_Spain</th>\n",
              "      <th>Gender_Male</th>\n",
              "    </tr>\n",
              "  </thead>\n",
              "  <tbody>\n",
              "    <tr>\n",
              "      <th>7655</th>\n",
              "      <td>748</td>\n",
              "      <td>38</td>\n",
              "      <td>4</td>\n",
              "      <td>115221.36</td>\n",
              "      <td>1</td>\n",
              "      <td>0</td>\n",
              "      <td>1</td>\n",
              "      <td>70956.75</td>\n",
              "      <td>0</td>\n",
              "      <td>0</td>\n",
              "      <td>0</td>\n",
              "      <td>1</td>\n",
              "    </tr>\n",
              "    <tr>\n",
              "      <th>4088</th>\n",
              "      <td>755</td>\n",
              "      <td>40</td>\n",
              "      <td>2</td>\n",
              "      <td>137430.82</td>\n",
              "      <td>2</td>\n",
              "      <td>0</td>\n",
              "      <td>0</td>\n",
              "      <td>176768.59</td>\n",
              "      <td>0</td>\n",
              "      <td>1</td>\n",
              "      <td>0</td>\n",
              "      <td>1</td>\n",
              "    </tr>\n",
              "  </tbody>\n",
              "</table>\n",
              "</div>"
            ],
            "text/plain": [
              "      CreditScore  Age  Tenure  ...  Geography_Germany  Geography_Spain  Gender_Male\n",
              "7655          748   38       4  ...                  0                0            1\n",
              "4088          755   40       2  ...                  1                0            1\n",
              "\n",
              "[2 rows x 12 columns]"
            ]
          },
          "metadata": {},
          "execution_count": 18
        }
      ]
    },
    {
      "cell_type": "code",
      "metadata": {
        "colab": {
          "base_uri": "https://localhost:8080/"
        },
        "id": "93kfuDhXTVNu",
        "outputId": "534e33b9-d4e1-40f3-a862-6316bfa06ca2"
      },
      "source": [
        "X=data.drop(columns='Exited')\n",
        "y=data['Exited']\n",
        "\n",
        "X.shape"
      ],
      "execution_count": 19,
      "outputs": [
        {
          "output_type": "execute_result",
          "data": {
            "text/plain": [
              "(10000, 11)"
            ]
          },
          "metadata": {},
          "execution_count": 19
        }
      ]
    },
    {
      "cell_type": "code",
      "metadata": {
        "id": "ffxzEZraSVOD"
      },
      "source": [
        "\n",
        "X_train, X_test, y_train, y_test = train_test_split(X, y, test_size = 0.2, random_state = 1)\n",
        "\n",
        "# Feature Scaling\n",
        "X_train.sample(2)\n",
        "sc = StandardScaler()\n",
        "X_train = sc.fit_transform(X_train)\n",
        "X_test = sc.transform(X_test)\n"
      ],
      "execution_count": 21,
      "outputs": []
    },
    {
      "cell_type": "markdown",
      "metadata": {
        "id": "RaDT0QzVFTSC"
      },
      "source": [
        "#### Checking if the split data set is balanced or not.\n"
      ]
    },
    {
      "cell_type": "code",
      "metadata": {
        "colab": {
          "base_uri": "https://localhost:8080/"
        },
        "id": "Z32S5PlGFSX2",
        "outputId": "5c6b67b0-70e4-40f3-ab8a-8a1df6429eeb"
      },
      "source": [
        "print(\"Train data Value count\")\n",
        "print(y_train.value_counts())\n",
        "\n",
        "print(\"\\nTrain data class percentage\")\n",
        "print((y_train.value_counts())/y_train.count())\n",
        "\n",
        "print(\"\\nTest data Value count\")\n",
        "print(y_test.value_counts())\n",
        "\n",
        "print(\"\\nTest data class percentage\")\n",
        "print((y_test.value_counts())/y_test.count())\n"
      ],
      "execution_count": 42,
      "outputs": [
        {
          "output_type": "stream",
          "text": [
            "Train data Value count\n",
            "0    6378\n",
            "1    1622\n",
            "Name: Exited, dtype: int64\n",
            "\n",
            "Train data class percentage\n",
            "0    0.79725\n",
            "1    0.20275\n",
            "Name: Exited, dtype: float64\n",
            "\n",
            "Test data Value count\n",
            "0    1585\n",
            "1     415\n",
            "Name: Exited, dtype: int64\n",
            "\n",
            "Test data class percentage\n",
            "0    0.7925\n",
            "1    0.2075\n",
            "Name: Exited, dtype: float64\n"
          ],
          "name": "stdout"
        }
      ]
    },
    {
      "cell_type": "markdown",
      "metadata": {
        "id": "7GZRGMHkIf3z"
      },
      "source": [
        "##### Data is splitted evenly in the original % of 20 and 80."
      ]
    },
    {
      "cell_type": "code",
      "metadata": {
        "id": "v9TH-4hVWUvT"
      },
      "source": [
        "model = Sequential()\n",
        "\n",
        "model.add(Dense(units = 16, activation = 'relu', input_dim = 11))\n",
        "\n",
        "model.add(Dense(16, activation = 'relu'))\n",
        "\n",
        "model.add(Dense(1, activation = 'sigmoid'))\n",
        "\n"
      ],
      "execution_count": 11,
      "outputs": []
    },
    {
      "cell_type": "code",
      "metadata": {
        "id": "dgbMjSHvX6Ha"
      },
      "source": [
        "# Create optimizer with default learning rate\n",
        "# Compile the model\n",
        "model.compile(optimizer='adam',loss='binary_crossentropy',metrics=['AUC'])"
      ],
      "execution_count": 100,
      "outputs": []
    },
    {
      "cell_type": "code",
      "metadata": {
        "colab": {
          "base_uri": "https://localhost:8080/"
        },
        "id": "HP6AaHnrhPRr",
        "outputId": "989d01a1-0db7-46ab-9f96-0decc12c382f"
      },
      "source": [
        "model.summary()"
      ],
      "execution_count": 101,
      "outputs": [
        {
          "output_type": "stream",
          "text": [
            "Model: \"sequential\"\n",
            "_________________________________________________________________\n",
            "Layer (type)                 Output Shape              Param #   \n",
            "=================================================================\n",
            "dense (Dense)                (None, 16)                192       \n",
            "_________________________________________________________________\n",
            "dense_1 (Dense)              (None, 16)                272       \n",
            "_________________________________________________________________\n",
            "dense_2 (Dense)              (None, 1)                 17        \n",
            "=================================================================\n",
            "Total params: 481\n",
            "Trainable params: 481\n",
            "Non-trainable params: 0\n",
            "_________________________________________________________________\n"
          ],
          "name": "stdout"
        }
      ]
    },
    {
      "cell_type": "code",
      "metadata": {
        "colab": {
          "base_uri": "https://localhost:8080/"
        },
        "id": "WZSTGZv4hTPF",
        "outputId": "edd0a6cd-2f48-491b-d3f9-2b8898838ed6"
      },
      "source": [
        "#fitting the model\n",
        "history=model.fit(X_train,y_train,batch_size=15,epochs=10,validation_split=0.2)"
      ],
      "execution_count": 102,
      "outputs": [
        {
          "output_type": "stream",
          "text": [
            "Epoch 1/10\n",
            "427/427 [==============================] - 2s 2ms/step - loss: 0.3337 - auc: 0.8650 - val_loss: 0.3528 - val_auc: 0.8473\n",
            "Epoch 2/10\n",
            "427/427 [==============================] - 1s 2ms/step - loss: 0.3321 - auc: 0.8664 - val_loss: 0.3566 - val_auc: 0.8467\n",
            "Epoch 3/10\n",
            "427/427 [==============================] - 1s 2ms/step - loss: 0.3307 - auc: 0.8674 - val_loss: 0.3550 - val_auc: 0.8461\n",
            "Epoch 4/10\n",
            "427/427 [==============================] - 1s 2ms/step - loss: 0.3301 - auc: 0.8678 - val_loss: 0.3503 - val_auc: 0.8480\n",
            "Epoch 5/10\n",
            "427/427 [==============================] - 1s 2ms/step - loss: 0.3292 - auc: 0.8681 - val_loss: 0.3510 - val_auc: 0.8490\n",
            "Epoch 6/10\n",
            "427/427 [==============================] - 1s 2ms/step - loss: 0.3288 - auc: 0.8693 - val_loss: 0.3542 - val_auc: 0.8484\n",
            "Epoch 7/10\n",
            "427/427 [==============================] - 1s 2ms/step - loss: 0.3272 - auc: 0.8712 - val_loss: 0.3496 - val_auc: 0.8483\n",
            "Epoch 8/10\n",
            "427/427 [==============================] - 1s 2ms/step - loss: 0.3266 - auc: 0.8710 - val_loss: 0.3511 - val_auc: 0.8497\n",
            "Epoch 9/10\n",
            "427/427 [==============================] - 1s 2ms/step - loss: 0.3257 - auc: 0.8719 - val_loss: 0.3504 - val_auc: 0.8485\n",
            "Epoch 10/10\n",
            "427/427 [==============================] - 1s 2ms/step - loss: 0.3246 - auc: 0.8732 - val_loss: 0.3484 - val_auc: 0.8508\n"
          ],
          "name": "stdout"
        }
      ]
    },
    {
      "cell_type": "code",
      "metadata": {
        "colab": {
          "base_uri": "https://localhost:8080/",
          "height": 282
        },
        "id": "C70kOBHGh6NE",
        "outputId": "8f6cf192-5e38-4ca4-f284-b136b791f949"
      },
      "source": [
        "# Capturing learning history per epoch\n",
        "hist  = pd.DataFrame(history.history)\n",
        "hist['epoch'] = history.epoch\n",
        "\n",
        "# Plotting accuracy at different epochs\n",
        "plt.plot(hist['loss'])\n",
        "plt.plot(hist['val_loss'])\n",
        "plt.legend((\"train\" , \"valid\") , loc =0)"
      ],
      "execution_count": 103,
      "outputs": [
        {
          "output_type": "execute_result",
          "data": {
            "text/plain": [
              "<matplotlib.legend.Legend at 0x7f9f05634a90>"
            ]
          },
          "metadata": {},
          "execution_count": 103
        },
        {
          "output_type": "display_data",
          "data": {
            "image/png": "[encoded data removed]",
            "text/plain": [
              "<Figure size 432x288 with 1 Axes>"
            ]
          },
          "metadata": {
            "needs_background": "light"
          }
        }
      ]
    },
    {
      "cell_type": "code",
      "metadata": {
        "colab": {
          "base_uri": "https://localhost:8080/"
        },
        "id": "Q0eWytwIiFx2",
        "outputId": "d663241d-7384-45bb-eac4-bbe0898108c6"
      },
      "source": [
        "score = model.evaluate(X_test, y_test)"
      ],
      "execution_count": 104,
      "outputs": [
        {
          "output_type": "stream",
          "text": [
            "63/63 [==============================] - 0s 1ms/step - loss: 0.3383 - auc: 0.8644\n"
          ],
          "name": "stdout"
        }
      ]
    },
    {
      "cell_type": "code",
      "metadata": {
        "colab": {
          "base_uri": "https://localhost:8080/"
        },
        "id": "3v8yyc9fiGwp",
        "outputId": "fd21d7d3-0052-449d-9556-69f7b41d5428"
      },
      "source": [
        "print(score)"
      ],
      "execution_count": 105,
      "outputs": [
        {
          "output_type": "stream",
          "text": [
            "[0.3382563591003418, 0.8644250631332397]\n"
          ],
          "name": "stdout"
        }
      ]
    },
    {
      "cell_type": "code",
      "metadata": {
        "colab": {
          "base_uri": "https://localhost:8080/",
          "height": 232
        },
        "id": "ymDD-2w4iRm4",
        "outputId": "514c0bf2-107a-4c33-fc6a-c5c285de1350"
      },
      "source": [
        "## Confusion Matrix on unsee test set\n",
        "y_pred1 = model.predict(X_test)\n",
        "for i in range(len(y_test)):\n",
        "    if y_pred1[i]>0.5:\n",
        "        y_pred1[i]=1 \n",
        "    else:\n",
        "        y_pred1[i]=0\n",
        "\n",
        "\n",
        "\n",
        "cm2=confusion_matrix(y_test, y_pred1)\n",
        "labels = ['True Negative','False Positive','False Negative','True Positive']\n",
        "categories = [ 'Not_Fraud','Fraud']\n",
        "make_confusion_matrix(cm2, \n",
        "                      group_names=labels,\n",
        "                      categories=categories, \n",
        "                      cmap='Blues')"
      ],
      "execution_count": 106,
      "outputs": [
        {
          "output_type": "error",
          "ename": "NameError",
          "evalue": "ignored",
          "traceback": [
            "\u001b[0;31m---------------------------------------------------------------------------\u001b[0m",
            "\u001b[0;31mNameError\u001b[0m                                 Traceback (most recent call last)",
            "\u001b[0;32m<ipython-input-106-89e72ee4b7e4>\u001b[0m in \u001b[0;36m<module>\u001b[0;34m()\u001b[0m\n\u001b[1;32m     12\u001b[0m \u001b[0mlabels\u001b[0m \u001b[0;34m=\u001b[0m \u001b[0;34m[\u001b[0m\u001b[0;34m'True Negative'\u001b[0m\u001b[0;34m,\u001b[0m\u001b[0;34m'False Positive'\u001b[0m\u001b[0;34m,\u001b[0m\u001b[0;34m'False Negative'\u001b[0m\u001b[0;34m,\u001b[0m\u001b[0;34m'True Positive'\u001b[0m\u001b[0;34m]\u001b[0m\u001b[0;34m\u001b[0m\u001b[0;34m\u001b[0m\u001b[0m\n\u001b[1;32m     13\u001b[0m \u001b[0mcategories\u001b[0m \u001b[0;34m=\u001b[0m \u001b[0;34m[\u001b[0m \u001b[0;34m'Not_Fraud'\u001b[0m\u001b[0;34m,\u001b[0m\u001b[0;34m'Fraud'\u001b[0m\u001b[0;34m]\u001b[0m\u001b[0;34m\u001b[0m\u001b[0;34m\u001b[0m\u001b[0m\n\u001b[0;32m---> 14\u001b[0;31m make_confusion_matrix(cm2, \n\u001b[0m\u001b[1;32m     15\u001b[0m                       \u001b[0mgroup_names\u001b[0m\u001b[0;34m=\u001b[0m\u001b[0mlabels\u001b[0m\u001b[0;34m,\u001b[0m\u001b[0;34m\u001b[0m\u001b[0;34m\u001b[0m\u001b[0m\n\u001b[1;32m     16\u001b[0m                       \u001b[0mcategories\u001b[0m\u001b[0;34m=\u001b[0m\u001b[0mcategories\u001b[0m\u001b[0;34m,\u001b[0m\u001b[0;34m\u001b[0m\u001b[0;34m\u001b[0m\u001b[0m\n",
            "\u001b[0;31mNameError\u001b[0m: name 'make_confusion_matrix' is not defined"
          ]
        }
      ]
    },
    {
      "cell_type": "code",
      "metadata": {
        "colab": {
          "base_uri": "https://localhost:8080/",
          "height": 359
        },
        "id": "qF-5hehziW5f",
        "outputId": "c6953524-c8a1-416d-8653-35e55072aa00"
      },
      "source": [
        "hist"
      ],
      "execution_count": 107,
      "outputs": [
        {
          "output_type": "execute_result",
          "data": {
            "text/html": [
              "<div>\n",
              "<style scoped>\n",
              "    .dataframe tbody tr th:only-of-type {\n",
              "        vertical-align: middle;\n",
              "    }\n",
              "\n",
              "    .dataframe tbody tr th {\n",
              "        vertical-align: top;\n",
              "    }\n",
              "\n",
              "    .dataframe thead th {\n",
              "        text-align: right;\n",
              "    }\n",
              "</style>\n",
              "<table border=\"1\" class=\"dataframe\">\n",
              "  <thead>\n",
              "    <tr style=\"text-align: right;\">\n",
              "      <th></th>\n",
              "      <th>loss</th>\n",
              "      <th>auc</th>\n",
              "      <th>val_loss</th>\n",
              "      <th>val_auc</th>\n",
              "      <th>epoch</th>\n",
              "    </tr>\n",
              "  </thead>\n",
              "  <tbody>\n",
              "    <tr>\n",
              "      <th>0</th>\n",
              "      <td>0.333668</td>\n",
              "      <td>0.865004</td>\n",
              "      <td>0.352793</td>\n",
              "      <td>0.847350</td>\n",
              "      <td>0</td>\n",
              "    </tr>\n",
              "    <tr>\n",
              "      <th>1</th>\n",
              "      <td>0.332108</td>\n",
              "      <td>0.866405</td>\n",
              "      <td>0.356612</td>\n",
              "      <td>0.846739</td>\n",
              "      <td>1</td>\n",
              "    </tr>\n",
              "    <tr>\n",
              "      <th>2</th>\n",
              "      <td>0.330702</td>\n",
              "      <td>0.867360</td>\n",
              "      <td>0.354968</td>\n",
              "      <td>0.846055</td>\n",
              "      <td>2</td>\n",
              "    </tr>\n",
              "    <tr>\n",
              "      <th>3</th>\n",
              "      <td>0.330054</td>\n",
              "      <td>0.867816</td>\n",
              "      <td>0.350341</td>\n",
              "      <td>0.848018</td>\n",
              "      <td>3</td>\n",
              "    </tr>\n",
              "    <tr>\n",
              "      <th>4</th>\n",
              "      <td>0.329212</td>\n",
              "      <td>0.868112</td>\n",
              "      <td>0.351012</td>\n",
              "      <td>0.849049</td>\n",
              "      <td>4</td>\n",
              "    </tr>\n",
              "    <tr>\n",
              "      <th>5</th>\n",
              "      <td>0.328800</td>\n",
              "      <td>0.869342</td>\n",
              "      <td>0.354249</td>\n",
              "      <td>0.848375</td>\n",
              "      <td>5</td>\n",
              "    </tr>\n",
              "    <tr>\n",
              "      <th>6</th>\n",
              "      <td>0.327185</td>\n",
              "      <td>0.871204</td>\n",
              "      <td>0.349565</td>\n",
              "      <td>0.848334</td>\n",
              "      <td>6</td>\n",
              "    </tr>\n",
              "    <tr>\n",
              "      <th>7</th>\n",
              "      <td>0.326565</td>\n",
              "      <td>0.871037</td>\n",
              "      <td>0.351088</td>\n",
              "      <td>0.849653</td>\n",
              "      <td>7</td>\n",
              "    </tr>\n",
              "    <tr>\n",
              "      <th>8</th>\n",
              "      <td>0.325697</td>\n",
              "      <td>0.871901</td>\n",
              "      <td>0.350359</td>\n",
              "      <td>0.848502</td>\n",
              "      <td>8</td>\n",
              "    </tr>\n",
              "    <tr>\n",
              "      <th>9</th>\n",
              "      <td>0.324584</td>\n",
              "      <td>0.873207</td>\n",
              "      <td>0.348375</td>\n",
              "      <td>0.850805</td>\n",
              "      <td>9</td>\n",
              "    </tr>\n",
              "  </tbody>\n",
              "</table>\n",
              "</div>"
            ],
            "text/plain": [
              "       loss       auc  val_loss   val_auc  epoch\n",
              "0  0.333668  0.865004  0.352793  0.847350      0\n",
              "1  0.332108  0.866405  0.356612  0.846739      1\n",
              "2  0.330702  0.867360  0.354968  0.846055      2\n",
              "3  0.330054  0.867816  0.350341  0.848018      3\n",
              "4  0.329212  0.868112  0.351012  0.849049      4\n",
              "5  0.328800  0.869342  0.354249  0.848375      5\n",
              "6  0.327185  0.871204  0.349565  0.848334      6\n",
              "7  0.326565  0.871037  0.351088  0.849653      7\n",
              "8  0.325697  0.871901  0.350359  0.848502      8\n",
              "9  0.324584  0.873207  0.348375  0.850805      9"
            ]
          },
          "metadata": {},
          "execution_count": 107
        }
      ]
    },
    {
      "cell_type": "code",
      "metadata": {
        "id": "7FpgwP9Tls4Y"
      },
      "source": [
        "\n",
        "pred_prob=list()\n",
        "for i in model.predict(X_train):\n",
        "  pred_prob.append(i[0])\n",
        "\n",
        "  "
      ],
      "execution_count": 108,
      "outputs": []
    },
    {
      "cell_type": "code",
      "metadata": {
        "id": "o9aL_ihTqthb"
      },
      "source": [
        "#model.predict(X_train)\n",
        "df= pd.DataFrame()\n",
        "df['flg']=y_train\n",
        "df['prob']=pred_prob\n"
      ],
      "execution_count": 109,
      "outputs": []
    },
    {
      "cell_type": "code",
      "metadata": {
        "colab": {
          "base_uri": "https://localhost:8080/"
        },
        "id": "kILonHmD-cZR",
        "outputId": "594875d0-0ce7-47bb-9a4e-f695e50603fe"
      },
      "source": [
        "#ROC curve on train.\n"
      ],
      "execution_count": 119,
      "outputs": [
        {
          "output_type": "execute_result",
          "data": {
            "text/plain": [
              "array([[0.03637034],\n",
              "       [0.5276565 ],\n",
              "       [0.10347819],\n",
              "       ...,\n",
              "       [0.08199   ],\n",
              "       [0.01733774],\n",
              "       [0.74942195]], dtype=float32)"
            ]
          },
          "metadata": {},
          "execution_count": 119
        }
      ]
    },
    {
      "cell_type": "markdown",
      "metadata": {
        "id": "wdu_7ADcquV3"
      },
      "source": [
        "####Optimal Threshold"
      ]
    },
    {
      "cell_type": "code",
      "metadata": {
        "colab": {
          "base_uri": "https://localhost:8080/"
        },
        "id": "SJcT20Ehq0Sv",
        "outputId": "1561b137-97b0-4cfc-ed34-24aac76bade0"
      },
      "source": [
        "# Optimal threshold as per AUC-ROC curve\n",
        "# The optimal cut off would be where tpr is high and fpr is low\n",
        "\n",
        "fpr, tpr, thresholds = metrics.roc_curve(y_train, model.predict(X_train))\n",
        "\n",
        "optimal_idx = np.argmax(tpr - fpr)\n",
        "optimal_threshold_auc_roc = thresholds[optimal_idx]\n",
        "print(optimal_threshold_auc_roc)\n",
        "\n",
        "\n"
      ],
      "execution_count": 121,
      "outputs": [
        {
          "output_type": "stream",
          "text": [
            "0.20149934\n"
          ],
          "name": "stdout"
        }
      ]
    },
    {
      "cell_type": "code",
      "metadata": {
        "colab": {
          "base_uri": "https://localhost:8080/",
          "height": 232
        },
        "id": "WOpCsSJGDH32",
        "outputId": "f3a3731c-992e-47c2-e73f-2c3bd7acf82a"
      },
      "source": [
        "roc_auc_train = roc_auc_score(y_train, model.predict(X_train))\n",
        "fpr, tpr, thresholds = roc_curve(y_train, model.predict(X_train))\n",
        "plt.figure(figsize=(7,5))\n",
        "plt.plot(fpr, tpr, label='AUC (area = %0.2f)' % roc_auc_train)\n",
        "plt.plot([0, 1], [0, 1],'r--')\n",
        "plt.xlim([0.0, 1.0])\n",
        "plt.ylim([0.0, 1.05])\n",
        "plt.xlabel('False Positive Rate')\n",
        "plt.ylabel('True Positive Rate')\n",
        "plt.title('Receiver operating characteristic')\n",
        "plt.legend(loc=\"lower right\")\n",
        "plt.show()"
      ],
      "execution_count": 1,
      "outputs": [
        {
          "output_type": "error",
          "ename": "NameError",
          "evalue": "ignored",
          "traceback": [
            "\u001b[0;31m---------------------------------------------------------------------------\u001b[0m",
            "\u001b[0;31mNameError\u001b[0m                                 Traceback (most recent call last)",
            "\u001b[0;32m<ipython-input-1-73989f3c1e4b>\u001b[0m in \u001b[0;36m<module>\u001b[0;34m()\u001b[0m\n\u001b[0;32m----> 1\u001b[0;31m \u001b[0mlogit_roc_auc_train\u001b[0m \u001b[0;34m=\u001b[0m \u001b[0mroc_auc_score\u001b[0m\u001b[0;34m(\u001b[0m\u001b[0my_train\u001b[0m\u001b[0;34m,\u001b[0m \u001b[0mmodel\u001b[0m\u001b[0;34m.\u001b[0m\u001b[0mpredict\u001b[0m\u001b[0;34m(\u001b[0m\u001b[0mX_train\u001b[0m\u001b[0;34m)\u001b[0m\u001b[0;34m)\u001b[0m\u001b[0;34m\u001b[0m\u001b[0;34m\u001b[0m\u001b[0m\n\u001b[0m\u001b[1;32m      2\u001b[0m \u001b[0mfpr\u001b[0m\u001b[0;34m,\u001b[0m \u001b[0mtpr\u001b[0m\u001b[0;34m,\u001b[0m \u001b[0mthresholds\u001b[0m \u001b[0;34m=\u001b[0m \u001b[0mroc_curve\u001b[0m\u001b[0;34m(\u001b[0m\u001b[0my_train\u001b[0m\u001b[0;34m,\u001b[0m \u001b[0mmodel\u001b[0m\u001b[0;34m.\u001b[0m\u001b[0mpredict\u001b[0m\u001b[0;34m(\u001b[0m\u001b[0mX_train\u001b[0m\u001b[0;34m)\u001b[0m\u001b[0;34m)\u001b[0m\u001b[0;34m\u001b[0m\u001b[0;34m\u001b[0m\u001b[0m\n\u001b[1;32m      3\u001b[0m \u001b[0mplt\u001b[0m\u001b[0;34m.\u001b[0m\u001b[0mfigure\u001b[0m\u001b[0;34m(\u001b[0m\u001b[0mfigsize\u001b[0m\u001b[0;34m=\u001b[0m\u001b[0;34m(\u001b[0m\u001b[0;36m7\u001b[0m\u001b[0;34m,\u001b[0m\u001b[0;36m5\u001b[0m\u001b[0;34m)\u001b[0m\u001b[0;34m)\u001b[0m\u001b[0;34m\u001b[0m\u001b[0;34m\u001b[0m\u001b[0m\n\u001b[1;32m      4\u001b[0m \u001b[0mplt\u001b[0m\u001b[0;34m.\u001b[0m\u001b[0mplot\u001b[0m\u001b[0;34m(\u001b[0m\u001b[0mfpr\u001b[0m\u001b[0;34m,\u001b[0m \u001b[0mtpr\u001b[0m\u001b[0;34m,\u001b[0m \u001b[0mlabel\u001b[0m\u001b[0;34m=\u001b[0m\u001b[0;34m'AUC (area = %0.2f)'\u001b[0m \u001b[0;34m%\u001b[0m \u001b[0mlogit_roc_auc_train\u001b[0m\u001b[0;34m)\u001b[0m\u001b[0;34m\u001b[0m\u001b[0;34m\u001b[0m\u001b[0m\n\u001b[1;32m      5\u001b[0m \u001b[0mplt\u001b[0m\u001b[0;34m.\u001b[0m\u001b[0mplot\u001b[0m\u001b[0;34m(\u001b[0m\u001b[0;34m[\u001b[0m\u001b[0;36m0\u001b[0m\u001b[0;34m,\u001b[0m \u001b[0;36m1\u001b[0m\u001b[0;34m]\u001b[0m\u001b[0;34m,\u001b[0m \u001b[0;34m[\u001b[0m\u001b[0;36m0\u001b[0m\u001b[0;34m,\u001b[0m \u001b[0;36m1\u001b[0m\u001b[0;34m]\u001b[0m\u001b[0;34m,\u001b[0m\u001b[0;34m'r--'\u001b[0m\u001b[0;34m)\u001b[0m\u001b[0;34m\u001b[0m\u001b[0;34m\u001b[0m\u001b[0m\n",
            "\u001b[0;31mNameError\u001b[0m: name 'roc_auc_score' is not defined"
          ]
        }
      ]
    },
    {
      "cell_type": "code",
      "metadata": {
        "colab": {
          "base_uri": "https://localhost:8080/",
          "height": 350
        },
        "id": "7c2_61_kD6wB",
        "outputId": "08404b22-db73-42e8-db1c-f6cee358bb33"
      },
      "source": [
        "roc_auc_test = roc_auc_score(y_test, model.predict(X_test))\n",
        "fpr, tpr, thresholds = roc_curve(y_test, model.predict(X_test))\n",
        "plt.figure(figsize=(7,5))\n",
        "plt.plot(fpr, tpr, label='AUC (area = %0.2f)' % roc_auc_test)\n",
        "plt.plot([0, 1], [0, 1],'r--')\n",
        "plt.xlim([0.0, 1.0])\n",
        "plt.ylim([0.0, 1.05])\n",
        "plt.xlabel('False Positive Rate')\n",
        "plt.ylabel('True Positive Rate')\n",
        "plt.title('Receiver operating characteristic')\n",
        "plt.legend(loc=\"lower right\")\n",
        "plt.show()"
      ],
      "execution_count": 128,
      "outputs": [
        {
          "output_type": "display_data",
          "data": {
            "image/png": "[encoded data removed]",
            "text/plain": [
              "<Figure size 504x360 with 1 Axes>"
            ]
          },
          "metadata": {
            "needs_background": "light"
          }
        }
      ]
    },
    {
      "cell_type": "code",
      "metadata": {
        "id": "PxH31T8SsqOK"
      },
      "source": [
        "def get_metrics_score(model,train,test,train_y,test_y,threshold=0.5,flag=True,roc=False):\n",
        "    '''\n",
        "    Function to calculate different metric scores of the model - Accuracy, Recall, Precision, and F1 score\n",
        "    model: classifier to predict values of X\n",
        "    train, test: Independent features\n",
        "    train_y,test_y: Dependent variable\n",
        "    threshold: thresold for classifiying the observation as 1\n",
        "    flag: If the flag is set to True then only the print statements showing different will be displayed. The default value is set to True.\n",
        "    roc: If the roc is set to True then only roc score will be displayed. The default value is set to False.\n",
        "    '''\n",
        "    # defining an empty list to store train and test results\n",
        "    \n",
        "    score_list=[] \n",
        "    \n",
        "    pred_train = (model.predict(train)>threshold)\n",
        "    pred_test = (model.predict(test)>threshold)\n",
        "\n",
        "    pred_train = np.round(pred_train)\n",
        "    pred_test = np.round(pred_test)\n",
        "    \n",
        "    train_acc = accuracy_score(pred_train,train_y)\n",
        "    test_acc = accuracy_score(pred_test,test_y)\n",
        "    \n",
        "    train_recall = recall_score(train_y,pred_train)\n",
        "    test_recall = recall_score(test_y,pred_test)\n",
        "    \n",
        "    train_precision = precision_score(train_y,pred_train)\n",
        "    test_precision = precision_score(test_y,pred_test)\n",
        "    \n",
        "    train_f1 = f1_score(train_y,pred_train)\n",
        "    test_f1 = f1_score(test_y,pred_test)\n",
        "    \n",
        "    \n",
        "    score_list.extend((train_acc,test_acc,train_recall,test_recall,train_precision,test_precision,train_f1,test_f1))\n",
        "        \n",
        "    \n",
        "    if flag == True: \n",
        "        print(\"Accuracy on training set : \",accuracy_score(pred_train,train_y))\n",
        "        print(\"Accuracy on test set : \",accuracy_score(pred_test,test_y))\n",
        "        print(\"Recall on training set : \",recall_score(train_y,pred_train))\n",
        "        print(\"Recall on test set : \",recall_score(test_y,pred_test))\n",
        "        print(\"Precision on training set : \",precision_score(train_y,pred_train))\n",
        "        print(\"Precision on test set : \",precision_score(test_y,pred_test))\n",
        "        print(\"F1 on training set : \",f1_score(train_y,pred_train))\n",
        "        print(\"F1 on test set : \",f1_score(test_y,pred_test))\n",
        "   \n",
        "    if roc == True:\n",
        "        print(\"ROC-AUC Score on training set : \",roc_auc_score(train_y,pred_train))\n",
        "        print(\"ROC-AUC Score on test set : \",roc_auc_score(test_y,pred_test))\n",
        "    \n",
        "    return score_list # returning the list with train and test scores"
      ],
      "execution_count": 112,
      "outputs": []
    },
    {
      "cell_type": "code",
      "metadata": {
        "colab": {
          "base_uri": "https://localhost:8080/"
        },
        "id": "cwDMYd64ve40",
        "outputId": "07eab2fa-d3ff-4cb6-fe69-4983cbc5302a"
      },
      "source": [
        "scores_op = get_metrics_score(model,X_train,X_test,y_train,y_test,threshold=optimal_threshold_auc_roc,roc=True)"
      ],
      "execution_count": 113,
      "outputs": [
        {
          "output_type": "stream",
          "text": [
            "Accuracy on training set :  0.797125\n",
            "Accuracy on test set :  0.7805\n",
            "Recall on training set :  0.7665441176470589\n",
            "Recall on test set :  0.7753086419753087\n",
            "Precision on training set :  0.5018050541516246\n",
            "Precision on test set :  0.4743202416918429\n",
            "F1 on training set :  0.6065454545454546\n",
            "F1 on test set :  0.5885660731021556\n",
            "ROC-AUC Score on training set :  0.7857532146024239\n",
            "ROC-AUC Score on test set :  0.7785634118967453\n"
          ],
          "name": "stdout"
        }
      ]
    },
    {
      "cell_type": "code",
      "metadata": {
        "colab": {
          "base_uri": "https://localhost:8080/"
        },
        "id": "96elvEC0_5iw",
        "outputId": "fd11b6c7-f79d-4e46-ae1b-8af207b459d0"
      },
      "source": [
        "tf.keras.metrics.AUC(\n",
        "    num_thresholds=200, curve='ROC',\n",
        "    summation_method='interpolation', name=None, dtype=None,\n",
        "    thresholds=None, multi_label=False, num_labels=None, label_weights=None,\n",
        "    from_logits=False\n",
        ")"
      ],
      "execution_count": 117,
      "outputs": [
        {
          "output_type": "execute_result",
          "data": {
            "text/plain": [
              "<keras.metrics.AUC at 0x7f9f054a5b50>"
            ]
          },
          "metadata": {},
          "execution_count": 117
        }
      ]
    }
  ]
}